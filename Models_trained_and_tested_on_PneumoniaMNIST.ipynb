{
  "nbformat": 4,
  "nbformat_minor": 0,
  "metadata": {
    "colab": {
      "provenance": []
    },
    "kernelspec": {
      "name": "python3",
      "display_name": "Python 3"
    },
    "language_info": {
      "name": "python"
    }
  },
  "cells": [
    {
      "cell_type": "markdown",
      "source": [
        "## **Mounting Google Drive in Google Colab**"
      ],
      "metadata": {
        "id": "oPtwQdowvmhX"
      }
    },
    {
      "cell_type": "code",
      "execution_count": null,
      "metadata": {
        "colab": {
          "base_uri": "https://localhost:8080/"
        },
        "id": "fKPWEyr-eDku",
        "outputId": "3f6665c4-8709-46ef-f0ed-43d1e647b66f"
      },
      "outputs": [
        {
          "output_type": "stream",
          "name": "stdout",
          "text": [
            "Mounted at /content/drive\n"
          ]
        }
      ],
      "source": [
        "from google.colab import drive\n",
        "drive.mount('/content/drive')"
      ]
    },
    {
      "cell_type": "markdown",
      "source": [
        "Dataset Install"
      ],
      "metadata": {
        "id": "TKAfc-qFxicr"
      }
    },
    {
      "cell_type": "code",
      "source": [
        "!pip install medmnist\n"
      ],
      "metadata": {
        "colab": {
          "base_uri": "https://localhost:8080/"
        },
        "id": "qmdZgdP2xi04",
        "outputId": "fd079ac9-f1ee-4ce1-f1c4-991c22f5313a"
      },
      "execution_count": null,
      "outputs": [
        {
          "output_type": "stream",
          "name": "stdout",
          "text": [
            "Collecting medmnist\n",
            "  Downloading medmnist-3.0.2-py3-none-any.whl.metadata (14 kB)\n",
            "Requirement already satisfied: numpy in /usr/local/lib/python3.10/dist-packages (from medmnist) (1.26.4)\n",
            "Requirement already satisfied: pandas in /usr/local/lib/python3.10/dist-packages (from medmnist) (2.2.2)\n",
            "Requirement already satisfied: scikit-learn in /usr/local/lib/python3.10/dist-packages (from medmnist) (1.5.2)\n",
            "Requirement already satisfied: scikit-image in /usr/local/lib/python3.10/dist-packages (from medmnist) (0.24.0)\n",
            "Requirement already satisfied: tqdm in /usr/local/lib/python3.10/dist-packages (from medmnist) (4.66.5)\n",
            "Requirement already satisfied: Pillow in /usr/local/lib/python3.10/dist-packages (from medmnist) (10.4.0)\n",
            "Collecting fire (from medmnist)\n",
            "  Downloading fire-0.7.0.tar.gz (87 kB)\n",
            "\u001b[?25l     \u001b[90m━━━━━━━━━━━━━━━━━━━━━━━━━━━━━━━━━━━━━━━━\u001b[0m \u001b[32m0.0/87.2 kB\u001b[0m \u001b[31m?\u001b[0m eta \u001b[36m-:--:--\u001b[0m\r\u001b[2K     \u001b[90m━━━━━━━━━━━━━━━━━━━━━━━━━━━━━━━━━━━━━━━━\u001b[0m \u001b[32m87.2/87.2 kB\u001b[0m \u001b[31m7.5 MB/s\u001b[0m eta \u001b[36m0:00:00\u001b[0m\n",
            "\u001b[?25h  Preparing metadata (setup.py) ... \u001b[?25l\u001b[?25hdone\n",
            "Requirement already satisfied: torch in /usr/local/lib/python3.10/dist-packages (from medmnist) (2.4.1+cu121)\n",
            "Requirement already satisfied: torchvision in /usr/local/lib/python3.10/dist-packages (from medmnist) (0.19.1+cu121)\n",
            "Requirement already satisfied: termcolor in /usr/local/lib/python3.10/dist-packages (from fire->medmnist) (2.5.0)\n",
            "Requirement already satisfied: python-dateutil>=2.8.2 in /usr/local/lib/python3.10/dist-packages (from pandas->medmnist) (2.8.2)\n",
            "Requirement already satisfied: pytz>=2020.1 in /usr/local/lib/python3.10/dist-packages (from pandas->medmnist) (2024.2)\n",
            "Requirement already satisfied: tzdata>=2022.7 in /usr/local/lib/python3.10/dist-packages (from pandas->medmnist) (2024.2)\n",
            "Requirement already satisfied: scipy>=1.9 in /usr/local/lib/python3.10/dist-packages (from scikit-image->medmnist) (1.13.1)\n",
            "Requirement already satisfied: networkx>=2.8 in /usr/local/lib/python3.10/dist-packages (from scikit-image->medmnist) (3.3)\n",
            "Requirement already satisfied: imageio>=2.33 in /usr/local/lib/python3.10/dist-packages (from scikit-image->medmnist) (2.35.1)\n",
            "Requirement already satisfied: tifffile>=2022.8.12 in /usr/local/lib/python3.10/dist-packages (from scikit-image->medmnist) (2024.9.20)\n",
            "Requirement already satisfied: packaging>=21 in /usr/local/lib/python3.10/dist-packages (from scikit-image->medmnist) (24.1)\n",
            "Requirement already satisfied: lazy-loader>=0.4 in /usr/local/lib/python3.10/dist-packages (from scikit-image->medmnist) (0.4)\n",
            "Requirement already satisfied: joblib>=1.2.0 in /usr/local/lib/python3.10/dist-packages (from scikit-learn->medmnist) (1.4.2)\n",
            "Requirement already satisfied: threadpoolctl>=3.1.0 in /usr/local/lib/python3.10/dist-packages (from scikit-learn->medmnist) (3.5.0)\n",
            "Requirement already satisfied: filelock in /usr/local/lib/python3.10/dist-packages (from torch->medmnist) (3.16.1)\n",
            "Requirement already satisfied: typing-extensions>=4.8.0 in /usr/local/lib/python3.10/dist-packages (from torch->medmnist) (4.12.2)\n",
            "Requirement already satisfied: sympy in /usr/local/lib/python3.10/dist-packages (from torch->medmnist) (1.13.3)\n",
            "Requirement already satisfied: jinja2 in /usr/local/lib/python3.10/dist-packages (from torch->medmnist) (3.1.4)\n",
            "Requirement already satisfied: fsspec in /usr/local/lib/python3.10/dist-packages (from torch->medmnist) (2024.6.1)\n",
            "Requirement already satisfied: six>=1.5 in /usr/local/lib/python3.10/dist-packages (from python-dateutil>=2.8.2->pandas->medmnist) (1.16.0)\n",
            "Requirement already satisfied: MarkupSafe>=2.0 in /usr/local/lib/python3.10/dist-packages (from jinja2->torch->medmnist) (2.1.5)\n",
            "Requirement already satisfied: mpmath<1.4,>=1.1.0 in /usr/local/lib/python3.10/dist-packages (from sympy->torch->medmnist) (1.3.0)\n",
            "Downloading medmnist-3.0.2-py3-none-any.whl (25 kB)\n",
            "Building wheels for collected packages: fire\n",
            "  Building wheel for fire (setup.py) ... \u001b[?25l\u001b[?25hdone\n",
            "  Created wheel for fire: filename=fire-0.7.0-py3-none-any.whl size=114250 sha256=e7d95af6ba7f60d685e95c281f80c7fe71e8341ec48e63f98bef72214f49b4f1\n",
            "  Stored in directory: /root/.cache/pip/wheels/19/39/2f/2d3cadc408a8804103f1c34ddd4b9f6a93497b11fa96fe738e\n",
            "Successfully built fire\n",
            "Installing collected packages: fire, medmnist\n",
            "Successfully installed fire-0.7.0 medmnist-3.0.2\n"
          ]
        }
      ]
    },
    {
      "cell_type": "markdown",
      "source": [
        "Import Libraries"
      ],
      "metadata": {
        "id": "ZhNl_7ikv8JK"
      }
    },
    {
      "cell_type": "code",
      "source": [
        "import torch\n",
        "import torch.nn as nn\n",
        "import torch.nn.functional as F\n",
        "import torchvision.transforms as transforms\n",
        "from torch.utils.data import DataLoader\n",
        "from medmnist import PneumoniaMNIST\n",
        "from sklearn.metrics import accuracy_score, f1_score, confusion_matrix, recall_score, precision_score, roc_curve, auc\n",
        "import matplotlib.pyplot as plt\n",
        "import seaborn as sns\n",
        "import numpy as np\n",
        "from collections import Counter\n",
        "from torchsummary import summary\n",
        "import pandas as pd\n"
      ],
      "metadata": {
        "id": "uISxpZJ5wNz-"
      },
      "execution_count": null,
      "outputs": []
    },
    {
      "cell_type": "markdown",
      "source": [
        "Device Configuration"
      ],
      "metadata": {
        "id": "ldXPSJx5wDyZ"
      }
    },
    {
      "cell_type": "code",
      "source": [
        "device = torch.device('cuda' if torch.cuda.is_available() else 'cpu')\n",
        "print(f'Using device: {device}')\n"
      ],
      "metadata": {
        "colab": {
          "base_uri": "https://localhost:8080/"
        },
        "id": "yyD-4_7wwOVo",
        "outputId": "4bfcf6b4-9f2c-4774-935a-db349c45326a"
      },
      "execution_count": null,
      "outputs": [
        {
          "output_type": "stream",
          "name": "stdout",
          "text": [
            "Using device: cpu\n"
          ]
        }
      ]
    },
    {
      "cell_type": "markdown",
      "source": [
        "Data Transformations"
      ],
      "metadata": {
        "id": "KUG2xyOOwHBu"
      }
    },
    {
      "cell_type": "code",
      "source": [
        "transform = transforms.Compose([\n",
        "    transforms.RandomHorizontalFlip(),\n",
        "    transforms.RandomRotation(10),\n",
        "    transforms.ToTensor(),\n",
        "    transforms.Normalize(mean=[0.5], std=[0.5])\n",
        "])\n"
      ],
      "metadata": {
        "id": "WI89jmiOwPTP"
      },
      "execution_count": null,
      "outputs": []
    },
    {
      "cell_type": "markdown",
      "source": [
        "Load PneumoniaMNIST Dataset"
      ],
      "metadata": {
        "id": "fSyj9otjwPwm"
      }
    },
    {
      "cell_type": "code",
      "source": [
        "train_data = PneumoniaMNIST(split='train', transform=transform, target_transform=lambda x: int(x), download=True)\n",
        "val_data = PneumoniaMNIST(split='val', transform=transform, target_transform=lambda x: int(x), download=True)\n",
        "test_data = PneumoniaMNIST(split='test', transform=transform, target_transform=lambda x: int(x), download=True)\n"
      ],
      "metadata": {
        "colab": {
          "base_uri": "https://localhost:8080/"
        },
        "id": "P8vfA6ULwUve",
        "outputId": "f7ac9c73-80b6-48e7-b71f-650094f0107a"
      },
      "execution_count": null,
      "outputs": [
        {
          "output_type": "stream",
          "name": "stdout",
          "text": [
            "Using downloaded and verified file: /root/.medmnist/pneumoniamnist.npz\n",
            "Using downloaded and verified file: /root/.medmnist/pneumoniamnist.npz\n",
            "Using downloaded and verified file: /root/.medmnist/pneumoniamnist.npz\n"
          ]
        }
      ]
    },
    {
      "cell_type": "markdown",
      "source": [
        "Handle Class Imbalance"
      ],
      "metadata": {
        "id": "McQRd0nDwVTw"
      }
    },
    {
      "cell_type": "code",
      "source": [
        "train_labels = [label for _, label in train_data]\n",
        "class_counts = Counter(train_labels)\n",
        "total_samples = sum(class_counts.values())\n",
        "class_weights = [total_samples / class_counts[i] for i in range(len(class_counts))]\n",
        "class_weights = torch.tensor(class_weights, dtype=torch.float).to(device)\n"
      ],
      "metadata": {
        "colab": {
          "base_uri": "https://localhost:8080/"
        },
        "id": "oxl1xeHowZo-",
        "outputId": "5c2c0ad2-d2f1-4c13-cec8-c24477161347"
      },
      "execution_count": null,
      "outputs": [
        {
          "output_type": "stream",
          "name": "stderr",
          "text": [
            "<ipython-input-79-397897dd2485>:1: DeprecationWarning: Conversion of an array with ndim > 0 to a scalar is deprecated, and will error in future. Ensure you extract a single element from your array before performing this operation. (Deprecated NumPy 1.25.)\n",
            "  train_data = PneumoniaMNIST(split='train', transform=transform, target_transform=lambda x: int(x), download=True)\n"
          ]
        }
      ]
    },
    {
      "cell_type": "markdown",
      "source": [
        "Data Loaders"
      ],
      "metadata": {
        "id": "rAF_0bWswZ_g"
      }
    },
    {
      "cell_type": "code",
      "source": [
        "batch_size = 32\n",
        "train_loader = DataLoader(dataset=train_data, batch_size=batch_size, shuffle=True)\n",
        "val_loader = DataLoader(dataset=val_data, batch_size=batch_size, shuffle=False)\n",
        "test_loader = DataLoader(dataset=test_data, batch_size=batch_size, shuffle=False)\n"
      ],
      "metadata": {
        "id": "tf-qYSUCwcdy"
      },
      "execution_count": null,
      "outputs": []
    },
    {
      "cell_type": "markdown",
      "source": [
        "Define CNN-RNN Hybrid Model and Model Architecture Visualization"
      ],
      "metadata": {
        "id": "KWIhmwktwcwn"
      }
    },
    {
      "cell_type": "code",
      "source": [
        "import torch\n",
        "import torch.nn as nn\n",
        "from torchsummary import summary\n",
        "\n",
        "# Define the CNN-RNN Model\n",
        "class CNNRNN(nn.Module):\n",
        "    def __init__(self):\n",
        "        super(CNNRNN, self).__init__()\n",
        "        self.cnn = nn.Sequential(\n",
        "            nn.Conv2d(1, 16, kernel_size=3, stride=1, padding=1),\n",
        "            nn.ReLU(),\n",
        "            nn.MaxPool2d(2, 2),\n",
        "            nn.Conv2d(16, 32, kernel_size=3, stride=1, padding=1),\n",
        "            nn.ReLU(),\n",
        "            nn.MaxPool2d(2, 2)\n",
        "        )\n",
        "        self.lstm = nn.LSTM(32, 128, batch_first=True)\n",
        "        self.fc = nn.Linear(128, 2)\n",
        "\n",
        "    def forward(self, x):\n",
        "        # CNN Layer\n",
        "        batch_size = x.size(0)\n",
        "        x = self.cnn(x)  # Shape after CNN: (batch_size, 32, 7, 7)\n",
        "\n",
        "        # Prepare input for LSTM\n",
        "        x = x.permute(0, 2, 3, 1)  # Shape: (batch_size, 7, 7, 32)\n",
        "        x = x.view(batch_size, -1, 32)  # Shape: (batch_size, 49, 32)\n",
        "\n",
        "        # LSTM layer returns output and hidden state, we need only the output\n",
        "        x, _ = self.lstm(x)  # LSTM output shape: (batch_size, 49, 128)\n",
        "\n",
        "        # Use the output from the last time step\n",
        "        x = x[:, -1, :]  # Shape: (batch_size, 128)\n",
        "\n",
        "        # Fully connected layer for classification\n",
        "        x = self.fc(x)  # Shape: (batch_size, 2)\n",
        "        return x\n",
        "\n",
        "    # Create a simplified forward function for summary purpose\n",
        "    def forward_for_summary(self, x):\n",
        "        # CNN Layer\n",
        "        batch_size = x.size(0)\n",
        "        x = self.cnn(x)  # Shape after CNN: (batch_size, 32, 7, 7)\n",
        "\n",
        "        # Prepare input for LSTM\n",
        "        x = x.permute(0, 2, 3, 1)  # Shape: (batch_size, 7, 7, 32)\n",
        "        x = x.view(batch_size, -1, 32)  # Shape: (batch_size, 49, 32)\n",
        "\n",
        "        # Here we are mocking the LSTM output for summary, assuming a fixed output size\n",
        "        # This avoids dealing with the tuple returned by LSTM\n",
        "        x = torch.zeros(batch_size, 49, 128)  # Mocked LSTM output\n",
        "\n",
        "        # Use the output from the last time step\n",
        "        x = x[:, -1, :]  # Shape: (batch_size, 128)\n",
        "\n",
        "        # Fully connected layer for classification\n",
        "        x = self.fc(x)  # Shape: (batch_size, 2)\n",
        "        return x\n",
        "\n",
        "\n",
        "# Instantiate the model\n",
        "cnn_rnn_model = CNNRNN()\n",
        "\n",
        "# Set the device\n",
        "device = torch.device(\"cpu\")\n",
        "cnn_rnn_model.to(device)\n",
        "\n",
        "# Bind the forward_for_summary to the model for torchsummary\n",
        "cnn_rnn_model.forward = cnn_rnn_model.forward_for_summary\n",
        "\n",
        "# Summarize the model using input_size (for grayscale images, shape: 1x28x28)\n",
        "summary(cnn_rnn_model, input_size=(1, 28, 28), device=\"cpu\")\n"
      ],
      "metadata": {
        "colab": {
          "base_uri": "https://localhost:8080/"
        },
        "id": "06D667lPwgCx",
        "outputId": "0c27e664-f56d-4cb5-ff35-12f6143f2274"
      },
      "execution_count": null,
      "outputs": [
        {
          "output_type": "stream",
          "name": "stdout",
          "text": [
            "----------------------------------------------------------------\n",
            "        Layer (type)               Output Shape         Param #\n",
            "================================================================\n",
            "            Conv2d-1           [-1, 16, 28, 28]             160\n",
            "              ReLU-2           [-1, 16, 28, 28]               0\n",
            "         MaxPool2d-3           [-1, 16, 14, 14]               0\n",
            "            Conv2d-4           [-1, 32, 14, 14]           4,640\n",
            "              ReLU-5           [-1, 32, 14, 14]               0\n",
            "         MaxPool2d-6             [-1, 32, 7, 7]               0\n",
            "            Linear-7                    [-1, 2]             258\n",
            "================================================================\n",
            "Total params: 5,058\n",
            "Trainable params: 5,058\n",
            "Non-trainable params: 0\n",
            "----------------------------------------------------------------\n",
            "Input size (MB): 0.00\n",
            "Forward/backward pass size (MB): 0.32\n",
            "Params size (MB): 0.02\n",
            "Estimated Total Size (MB): 0.35\n",
            "----------------------------------------------------------------\n"
          ]
        }
      ]
    },
    {
      "cell_type": "markdown",
      "source": [],
      "metadata": {
        "id": "jJy9DhPYh8Fp"
      }
    },
    {
      "cell_type": "markdown",
      "source": [
        "Instantiate Model"
      ],
      "metadata": {
        "id": "8_1W1Yq8wgWN"
      }
    },
    {
      "cell_type": "code",
      "source": [
        "cnn_rnn_model = CNNRNN().to(device)\n"
      ],
      "metadata": {
        "id": "mnA8OI5Awn9i"
      },
      "execution_count": null,
      "outputs": []
    },
    {
      "cell_type": "markdown",
      "source": [
        "Define Loss Function and Optimizer"
      ],
      "metadata": {
        "id": "dPHDgQDVwjnc"
      }
    },
    {
      "cell_type": "code",
      "source": [
        "criterion = nn.CrossEntropyLoss(weight=class_weights)\n",
        "optimizer = torch.optim.Adam(cnn_rnn_model.parameters(), lr=0.001)\n"
      ],
      "metadata": {
        "id": "pTi2MJ8wwmuG"
      },
      "execution_count": null,
      "outputs": []
    },
    {
      "cell_type": "markdown",
      "source": [
        "Training Function"
      ],
      "metadata": {
        "id": "Xw8wKaW1wnXf"
      }
    },
    {
      "cell_type": "code",
      "source": [
        "def train_model(model, train_loader, val_loader, criterion, optimizer, num_epochs=10):\n",
        "    for epoch in range(num_epochs):\n",
        "        model.train()\n",
        "        running_loss = 0.0\n",
        "        correct = 0\n",
        "        total = 0\n",
        "\n",
        "        # Training loop\n",
        "        for images, labels in train_loader:\n",
        "            images, labels = images.to(device), labels.to(device).view(-1)\n",
        "            optimizer.zero_grad()\n",
        "            outputs = model(images)\n",
        "            loss = criterion(outputs, labels)\n",
        "            loss.backward()\n",
        "            optimizer.step()\n",
        "\n",
        "            running_loss += loss.item()\n",
        "            _, predicted = torch.max(outputs.data, 1)\n",
        "            total += labels.size(0)\n",
        "            correct += (predicted == labels).sum().item()\n",
        "\n",
        "        train_accuracy = 100 * correct / total\n",
        "        train_loss = running_loss / len(train_loader)\n",
        "\n",
        "        # Validation loop\n",
        "        model.eval()\n",
        "        val_loss = 0.0\n",
        "        val_correct = 0\n",
        "        val_total = 0\n",
        "        with torch.no_grad():\n",
        "            for images, labels in val_loader:\n",
        "                images, labels = images.to(device), labels.to(device).view(-1)\n",
        "                outputs = model(images)\n",
        "                loss = criterion(outputs, labels)\n",
        "                val_loss += loss.item()\n",
        "                _, predicted = torch.max(outputs.data, 1)\n",
        "                val_total += labels.size(0)\n",
        "                val_correct += (predicted == labels).sum().item()\n",
        "        val_accuracy = 100 * val_correct / val_total\n",
        "        val_loss = val_loss / len(val_loader)\n",
        "        print(f\"Epoch {epoch+1}/{num_epochs}, \"\n",
        "              f\"Train Loss: {train_loss:.4f}, Train Accuracy: {train_accuracy:.2f}%, \"\n",
        "              f\"Val Loss: {val_loss:.4f}, Val Accuracy: {val_accuracy:.2f}%\")\n",
        "        model.train()\n"
      ],
      "metadata": {
        "id": "s4BwJSudwtIk"
      },
      "execution_count": null,
      "outputs": []
    },
    {
      "cell_type": "markdown",
      "source": [
        "Train the Model"
      ],
      "metadata": {
        "id": "dUqRFYQEwtYO"
      }
    },
    {
      "cell_type": "code",
      "source": [
        "num_epochs = 10\n",
        "train_model(cnn_rnn_model, train_loader, val_loader, criterion, optimizer, num_epochs=num_epochs)\n"
      ],
      "metadata": {
        "colab": {
          "base_uri": "https://localhost:8080/"
        },
        "id": "erppcNN6wwVy",
        "outputId": "2f8113a8-193d-4ebb-bf40-032e5e135b98"
      },
      "execution_count": null,
      "outputs": [
        {
          "output_type": "stream",
          "name": "stderr",
          "text": [
            "<ipython-input-79-397897dd2485>:1: DeprecationWarning: Conversion of an array with ndim > 0 to a scalar is deprecated, and will error in future. Ensure you extract a single element from your array before performing this operation. (Deprecated NumPy 1.25.)\n",
            "  train_data = PneumoniaMNIST(split='train', transform=transform, target_transform=lambda x: int(x), download=True)\n",
            "<ipython-input-79-397897dd2485>:2: DeprecationWarning: Conversion of an array with ndim > 0 to a scalar is deprecated, and will error in future. Ensure you extract a single element from your array before performing this operation. (Deprecated NumPy 1.25.)\n",
            "  val_data = PneumoniaMNIST(split='val', transform=transform, target_transform=lambda x: int(x), download=True)\n"
          ]
        },
        {
          "output_type": "stream",
          "name": "stdout",
          "text": [
            "Epoch 1/10, Train Loss: 0.6616, Train Accuracy: 61.19%, Val Loss: 0.5928, Val Accuracy: 58.59%\n",
            "Epoch 2/10, Train Loss: 0.5882, Train Accuracy: 71.73%, Val Loss: 0.5080, Val Accuracy: 74.24%\n",
            "Epoch 3/10, Train Loss: 0.5427, Train Accuracy: 75.02%, Val Loss: 0.4666, Val Accuracy: 78.44%\n",
            "Epoch 4/10, Train Loss: 0.5118, Train Accuracy: 76.02%, Val Loss: 0.5152, Val Accuracy: 70.80%\n",
            "Epoch 5/10, Train Loss: 0.4973, Train Accuracy: 77.61%, Val Loss: 0.4692, Val Accuracy: 77.67%\n",
            "Epoch 6/10, Train Loss: 0.4715, Train Accuracy: 78.31%, Val Loss: 0.4403, Val Accuracy: 83.40%\n",
            "Epoch 7/10, Train Loss: 0.4666, Train Accuracy: 79.27%, Val Loss: 0.4258, Val Accuracy: 85.50%\n",
            "Epoch 8/10, Train Loss: 0.4535, Train Accuracy: 79.21%, Val Loss: 0.3657, Val Accuracy: 86.07%\n",
            "Epoch 9/10, Train Loss: 0.4302, Train Accuracy: 80.82%, Val Loss: 0.4061, Val Accuracy: 82.25%\n",
            "Epoch 10/10, Train Loss: 0.4783, Train Accuracy: 78.33%, Val Loss: 0.4047, Val Accuracy: 87.79%\n"
          ]
        }
      ]
    },
    {
      "cell_type": "markdown",
      "source": [
        "Evaluation Function"
      ],
      "metadata": {
        "id": "RuAO82Zlwwoi"
      }
    },
    {
      "cell_type": "code",
      "source": [
        "def evaluate_model(model, test_loader):\n",
        "    model.eval()\n",
        "    all_preds = []\n",
        "    all_labels = []\n",
        "    all_preds_prob = []\n",
        "\n",
        "    with torch.no_grad():\n",
        "        for images, labels in test_loader:\n",
        "            images, labels = images.to(device), labels.to(device).view(-1)\n",
        "            outputs = model(images)\n",
        "            _, predicted = torch.max(outputs.data, 1)\n",
        "            all_preds_prob.extend(torch.softmax(outputs, dim=1).cpu().numpy())\n",
        "            all_preds.extend(predicted.cpu().numpy())\n",
        "            all_labels.extend(labels.cpu().numpy())\n",
        "\n",
        "    # Compute metrics\n",
        "    accuracy = accuracy_score(all_labels, all_preds)\n",
        "    f1 = f1_score(all_labels, all_preds, average='weighted')\n",
        "    recall = recall_score(all_labels, all_preds, average='weighted')\n",
        "    precision = precision_score(all_labels, all_preds, average='weighted')\n",
        "    conf_matrix = confusion_matrix(all_labels, all_preds)\n",
        "\n",
        "    print(f\"Accuracy: {accuracy:.4f}\")\n",
        "    print(f\"F1 Score: {f1:.4f}\")\n",
        "    print(f\"Recall: {recall:.4f}\")\n",
        "    print(f\"Precision: {precision:.4f}\")\n",
        "    print(f\"Confusion Matrix:\\n{conf_matrix}\")\n",
        "\n",
        "    # Plot confusion matrix\n",
        "    plt.figure(figsize=(6, 5))\n",
        "    sns.heatmap(conf_matrix, annot=True, fmt='d', cmap='Blues')\n",
        "    plt.xlabel('Predicted Labels')\n",
        "    plt.ylabel('True Labels')\n",
        "    plt.show()\n",
        "\n",
        "    # ROC Curve\n",
        "    fpr, tpr, _ = roc_curve(all_labels, np.array(all_preds_prob)[:, 1])\n",
        "    roc_auc = auc(fpr, tpr)\n",
        "    plt.figure()\n",
        "    plt.plot(fpr, tpr, color='blue', lw=2, label=f'ROC curve (area = {roc_auc:.2f})')\n",
        "    plt.plot([0, 1], [0, 1], color='gray', linestyle='--')\n",
        "    plt.xlabel('False Positive Rate')\n",
        "    plt.ylabel('True Positive Rate')\n",
        "    plt.title('Receiver Operating Characteristic (ROC) Curve')\n",
        "    plt.legend(loc='lower right')\n",
        "    plt.show()\n"
      ],
      "metadata": {
        "id": "f4vPQfcDwzYm"
      },
      "execution_count": null,
      "outputs": []
    },
    {
      "cell_type": "markdown",
      "source": [
        "Evaluate the Model"
      ],
      "metadata": {
        "id": "Eh0aB580wziU"
      }
    },
    {
      "cell_type": "code",
      "source": [
        "evaluate_model(cnn_rnn_model, test_loader)\n"
      ],
      "metadata": {
        "colab": {
          "base_uri": "https://localhost:8080/",
          "height": 1000
        },
        "id": "DHc_-TuIw3Gw",
        "outputId": "651d0bb3-d766-467c-bc26-30e4a5cd11f6"
      },
      "execution_count": null,
      "outputs": [
        {
          "output_type": "stream",
          "name": "stderr",
          "text": [
            "<ipython-input-79-397897dd2485>:3: DeprecationWarning: Conversion of an array with ndim > 0 to a scalar is deprecated, and will error in future. Ensure you extract a single element from your array before performing this operation. (Deprecated NumPy 1.25.)\n",
            "  test_data = PneumoniaMNIST(split='test', transform=transform, target_transform=lambda x: int(x), download=True)\n"
          ]
        },
        {
          "output_type": "stream",
          "name": "stdout",
          "text": [
            "Accuracy: 0.8109\n",
            "F1 Score: 0.8041\n",
            "Recall: 0.8109\n",
            "Precision: 0.8133\n",
            "Confusion Matrix:\n",
            "[[146  88]\n",
            " [ 30 360]]\n"
          ]
        },
        {
          "output_type": "display_data",
          "data": {
            "text/plain": [
              "<Figure size 600x500 with 2 Axes>"
            ],
            "image/png": "[encoded data removed]"
          },
          "metadata": {}
        },
        {
          "output_type": "display_data",
          "data": {
            "text/plain": [
              "<Figure size 640x480 with 1 Axes>"
            ],
            "image/png": "[encoded data removed]"
          },
          "metadata": {}
        }
      ]
    },
    {
      "cell_type": "markdown",
      "source": [
        "Class Distribution Visualization"
      ],
      "metadata": {
        "id": "mO8EGYZMw3SA"
      }
    },
    {
      "cell_type": "code",
      "source": [
        "labels = [label for _, label in train_data]\n",
        "labels_df = pd.DataFrame(labels, columns=['Class'])\n",
        "sns.countplot(x='Class', data=labels_df)\n",
        "plt.xlabel('Class Labels')\n",
        "plt.ylabel('Frequency')\n",
        "plt.title('Class Distribution in Training Data')\n",
        "plt.show()\n"
      ],
      "metadata": {
        "colab": {
          "base_uri": "https://localhost:8080/",
          "height": 508
        },
        "id": "vom3eS9Aw5ix",
        "outputId": "82f7860e-a4c1-477f-f4b0-d6e874114f01"
      },
      "execution_count": null,
      "outputs": [
        {
          "output_type": "stream",
          "name": "stderr",
          "text": [
            "<ipython-input-79-397897dd2485>:1: DeprecationWarning: Conversion of an array with ndim > 0 to a scalar is deprecated, and will error in future. Ensure you extract a single element from your array before performing this operation. (Deprecated NumPy 1.25.)\n",
            "  train_data = PneumoniaMNIST(split='train', transform=transform, target_transform=lambda x: int(x), download=True)\n"
          ]
        },
        {
          "output_type": "display_data",
          "data": {
            "text/plain": [
              "<Figure size 640x480 with 1 Axes>"
            ],
            "image/png": "[encoded data removed]"
          },
          "metadata": {}
        }
      ]
    },
    {
      "cell_type": "markdown",
      "source": [
        "# DeepLabV3"
      ],
      "metadata": {
        "id": "92NWF-_vy0cc"
      }
    },
    {
      "cell_type": "markdown",
      "source": [
        "Install packages"
      ],
      "metadata": {
        "id": "a2ujeMkjy54y"
      }
    },
    {
      "cell_type": "code",
      "source": [
        "!pip install medmnist\n",
        "!pip install segmentation-models-pytorch\n"
      ],
      "metadata": {
        "colab": {
          "base_uri": "https://localhost:8080/"
        },
        "id": "FpFeZxTdy42j",
        "outputId": "fe5ac708-785e-4e9c-8f53-2d48efb036c8"
      },
      "execution_count": null,
      "outputs": [
        {
          "output_type": "stream",
          "name": "stdout",
          "text": [
            "Requirement already satisfied: medmnist in /usr/local/lib/python3.10/dist-packages (3.0.2)\n",
            "Requirement already satisfied: numpy in /usr/local/lib/python3.10/dist-packages (from medmnist) (1.26.4)\n",
            "Requirement already satisfied: pandas in /usr/local/lib/python3.10/dist-packages (from medmnist) (2.2.2)\n",
            "Requirement already satisfied: scikit-learn in /usr/local/lib/python3.10/dist-packages (from medmnist) (1.5.2)\n",
            "Requirement already satisfied: scikit-image in /usr/local/lib/python3.10/dist-packages (from medmnist) (0.24.0)\n",
            "Requirement already satisfied: tqdm in /usr/local/lib/python3.10/dist-packages (from medmnist) (4.66.5)\n",
            "Requirement already satisfied: Pillow in /usr/local/lib/python3.10/dist-packages (from medmnist) (10.4.0)\n",
            "Requirement already satisfied: fire in /usr/local/lib/python3.10/dist-packages (from medmnist) (0.7.0)\n",
            "Requirement already satisfied: torch in /usr/local/lib/python3.10/dist-packages (from medmnist) (2.4.1+cu121)\n",
            "Requirement already satisfied: torchvision in /usr/local/lib/python3.10/dist-packages (from medmnist) (0.19.1+cu121)\n",
            "Requirement already satisfied: termcolor in /usr/local/lib/python3.10/dist-packages (from fire->medmnist) (2.4.0)\n",
            "Requirement already satisfied: python-dateutil>=2.8.2 in /usr/local/lib/python3.10/dist-packages (from pandas->medmnist) (2.8.2)\n",
            "Requirement already satisfied: pytz>=2020.1 in /usr/local/lib/python3.10/dist-packages (from pandas->medmnist) (2024.2)\n",
            "Requirement already satisfied: tzdata>=2022.7 in /usr/local/lib/python3.10/dist-packages (from pandas->medmnist) (2024.2)\n",
            "Requirement already satisfied: scipy>=1.9 in /usr/local/lib/python3.10/dist-packages (from scikit-image->medmnist) (1.13.1)\n",
            "Requirement already satisfied: networkx>=2.8 in /usr/local/lib/python3.10/dist-packages (from scikit-image->medmnist) (3.3)\n",
            "Requirement already satisfied: imageio>=2.33 in /usr/local/lib/python3.10/dist-packages (from scikit-image->medmnist) (2.35.1)\n",
            "Requirement already satisfied: tifffile>=2022.8.12 in /usr/local/lib/python3.10/dist-packages (from scikit-image->medmnist) (2024.9.20)\n",
            "Requirement already satisfied: packaging>=21 in /usr/local/lib/python3.10/dist-packages (from scikit-image->medmnist) (24.1)\n",
            "Requirement already satisfied: lazy-loader>=0.4 in /usr/local/lib/python3.10/dist-packages (from scikit-image->medmnist) (0.4)\n",
            "Requirement already satisfied: joblib>=1.2.0 in /usr/local/lib/python3.10/dist-packages (from scikit-learn->medmnist) (1.4.2)\n",
            "Requirement already satisfied: threadpoolctl>=3.1.0 in /usr/local/lib/python3.10/dist-packages (from scikit-learn->medmnist) (3.5.0)\n",
            "Requirement already satisfied: filelock in /usr/local/lib/python3.10/dist-packages (from torch->medmnist) (3.16.1)\n",
            "Requirement already satisfied: typing-extensions>=4.8.0 in /usr/local/lib/python3.10/dist-packages (from torch->medmnist) (4.12.2)\n",
            "Requirement already satisfied: sympy in /usr/local/lib/python3.10/dist-packages (from torch->medmnist) (1.13.3)\n",
            "Requirement already satisfied: jinja2 in /usr/local/lib/python3.10/dist-packages (from torch->medmnist) (3.1.4)\n",
            "Requirement already satisfied: fsspec in /usr/local/lib/python3.10/dist-packages (from torch->medmnist) (2024.6.1)\n",
            "Requirement already satisfied: six>=1.5 in /usr/local/lib/python3.10/dist-packages (from python-dateutil>=2.8.2->pandas->medmnist) (1.16.0)\n",
            "Requirement already satisfied: MarkupSafe>=2.0 in /usr/local/lib/python3.10/dist-packages (from jinja2->torch->medmnist) (2.1.5)\n",
            "Requirement already satisfied: mpmath<1.4,>=1.1.0 in /usr/local/lib/python3.10/dist-packages (from sympy->torch->medmnist) (1.3.0)\n",
            "Collecting segmentation-models-pytorch\n",
            "  Downloading segmentation_models_pytorch-0.3.4-py3-none-any.whl.metadata (30 kB)\n",
            "Collecting efficientnet-pytorch==0.7.1 (from segmentation-models-pytorch)\n",
            "  Downloading efficientnet_pytorch-0.7.1.tar.gz (21 kB)\n",
            "  Preparing metadata (setup.py) ... \u001b[?25l\u001b[?25hdone\n",
            "Requirement already satisfied: huggingface-hub>=0.24.6 in /usr/local/lib/python3.10/dist-packages (from segmentation-models-pytorch) (0.24.7)\n",
            "Requirement already satisfied: pillow in /usr/local/lib/python3.10/dist-packages (from segmentation-models-pytorch) (10.4.0)\n",
            "Collecting pretrainedmodels==0.7.4 (from segmentation-models-pytorch)\n",
            "  Downloading pretrainedmodels-0.7.4.tar.gz (58 kB)\n",
            "\u001b[2K     \u001b[90m━━━━━━━━━━━━━━━━━━━━━━━━━━━━━━━━━━━━━━━━\u001b[0m \u001b[32m58.8/58.8 kB\u001b[0m \u001b[31m4.1 MB/s\u001b[0m eta \u001b[36m0:00:00\u001b[0m\n",
            "\u001b[?25h  Preparing metadata (setup.py) ... \u001b[?25l\u001b[?25hdone\n",
            "Requirement already satisfied: six in /usr/local/lib/python3.10/dist-packages (from segmentation-models-pytorch) (1.16.0)\n",
            "Collecting timm==0.9.7 (from segmentation-models-pytorch)\n",
            "  Downloading timm-0.9.7-py3-none-any.whl.metadata (58 kB)\n",
            "\u001b[2K     \u001b[90m━━━━━━━━━━━━━━━━━━━━━━━━━━━━━━━━━━━━━━━━\u001b[0m \u001b[32m58.8/58.8 kB\u001b[0m \u001b[31m5.3 MB/s\u001b[0m eta \u001b[36m0:00:00\u001b[0m\n",
            "\u001b[?25hRequirement already satisfied: torchvision>=0.5.0 in /usr/local/lib/python3.10/dist-packages (from segmentation-models-pytorch) (0.19.1+cu121)\n",
            "Requirement already satisfied: tqdm in /usr/local/lib/python3.10/dist-packages (from segmentation-models-pytorch) (4.66.5)\n",
            "Requirement already satisfied: torch in /usr/local/lib/python3.10/dist-packages (from efficientnet-pytorch==0.7.1->segmentation-models-pytorch) (2.4.1+cu121)\n",
            "Collecting munch (from pretrainedmodels==0.7.4->segmentation-models-pytorch)\n",
            "  Downloading munch-4.0.0-py2.py3-none-any.whl.metadata (5.9 kB)\n",
            "Requirement already satisfied: pyyaml in /usr/local/lib/python3.10/dist-packages (from timm==0.9.7->segmentation-models-pytorch) (6.0.2)\n",
            "Requirement already satisfied: safetensors in /usr/local/lib/python3.10/dist-packages (from timm==0.9.7->segmentation-models-pytorch) (0.4.5)\n",
            "Requirement already satisfied: filelock in /usr/local/lib/python3.10/dist-packages (from huggingface-hub>=0.24.6->segmentation-models-pytorch) (3.16.1)\n",
            "Requirement already satisfied: fsspec>=2023.5.0 in /usr/local/lib/python3.10/dist-packages (from huggingface-hub>=0.24.6->segmentation-models-pytorch) (2024.6.1)\n",
            "Requirement already satisfied: packaging>=20.9 in /usr/local/lib/python3.10/dist-packages (from huggingface-hub>=0.24.6->segmentation-models-pytorch) (24.1)\n",
            "Requirement already satisfied: requests in /usr/local/lib/python3.10/dist-packages (from huggingface-hub>=0.24.6->segmentation-models-pytorch) (2.32.3)\n",
            "Requirement already satisfied: typing-extensions>=3.7.4.3 in /usr/local/lib/python3.10/dist-packages (from huggingface-hub>=0.24.6->segmentation-models-pytorch) (4.12.2)\n",
            "Requirement already satisfied: numpy in /usr/local/lib/python3.10/dist-packages (from torchvision>=0.5.0->segmentation-models-pytorch) (1.26.4)\n",
            "Requirement already satisfied: sympy in /usr/local/lib/python3.10/dist-packages (from torch->efficientnet-pytorch==0.7.1->segmentation-models-pytorch) (1.13.3)\n",
            "Requirement already satisfied: networkx in /usr/local/lib/python3.10/dist-packages (from torch->efficientnet-pytorch==0.7.1->segmentation-models-pytorch) (3.3)\n",
            "Requirement already satisfied: jinja2 in /usr/local/lib/python3.10/dist-packages (from torch->efficientnet-pytorch==0.7.1->segmentation-models-pytorch) (3.1.4)\n",
            "Requirement already satisfied: charset-normalizer<4,>=2 in /usr/local/lib/python3.10/dist-packages (from requests->huggingface-hub>=0.24.6->segmentation-models-pytorch) (3.3.2)\n",
            "Requirement already satisfied: idna<4,>=2.5 in /usr/local/lib/python3.10/dist-packages (from requests->huggingface-hub>=0.24.6->segmentation-models-pytorch) (3.10)\n",
            "Requirement already satisfied: urllib3<3,>=1.21.1 in /usr/local/lib/python3.10/dist-packages (from requests->huggingface-hub>=0.24.6->segmentation-models-pytorch) (2.2.3)\n",
            "Requirement already satisfied: certifi>=2017.4.17 in /usr/local/lib/python3.10/dist-packages (from requests->huggingface-hub>=0.24.6->segmentation-models-pytorch) (2024.8.30)\n",
            "Requirement already satisfied: MarkupSafe>=2.0 in /usr/local/lib/python3.10/dist-packages (from jinja2->torch->efficientnet-pytorch==0.7.1->segmentation-models-pytorch) (2.1.5)\n",
            "Requirement already satisfied: mpmath<1.4,>=1.1.0 in /usr/local/lib/python3.10/dist-packages (from sympy->torch->efficientnet-pytorch==0.7.1->segmentation-models-pytorch) (1.3.0)\n",
            "Downloading segmentation_models_pytorch-0.3.4-py3-none-any.whl (109 kB)\n",
            "\u001b[2K   \u001b[90m━━━━━━━━━━━━━━━━━━━━━━━━━━━━━━━━━━━━━━━━\u001b[0m \u001b[32m109.5/109.5 kB\u001b[0m \u001b[31m8.3 MB/s\u001b[0m eta \u001b[36m0:00:00\u001b[0m\n",
            "\u001b[?25hDownloading timm-0.9.7-py3-none-any.whl (2.2 MB)\n",
            "\u001b[2K   \u001b[90m━━━━━━━━━━━━━━━━━━━━━━━━━━━━━━━━━━━━━━━━\u001b[0m \u001b[32m2.2/2.2 MB\u001b[0m \u001b[31m29.3 MB/s\u001b[0m eta \u001b[36m0:00:00\u001b[0m\n",
            "\u001b[?25hDownloading munch-4.0.0-py2.py3-none-any.whl (9.9 kB)\n",
            "Building wheels for collected packages: efficientnet-pytorch, pretrainedmodels\n",
            "  Building wheel for efficientnet-pytorch (setup.py) ... \u001b[?25l\u001b[?25hdone\n",
            "  Created wheel for efficientnet-pytorch: filename=efficientnet_pytorch-0.7.1-py3-none-any.whl size=16425 sha256=67535ff1f23a45f0db288556992df09e647f6d4803c36f9ccbd99aa0e321623b\n",
            "  Stored in directory: /root/.cache/pip/wheels/03/3f/e9/911b1bc46869644912bda90a56bcf7b960f20b5187feea3baf\n",
            "  Building wheel for pretrainedmodels (setup.py) ... \u001b[?25l\u001b[?25hdone\n",
            "  Created wheel for pretrainedmodels: filename=pretrainedmodels-0.7.4-py3-none-any.whl size=60944 sha256=0b949cdeae9f672df17836ef68fa4f525237a02cca62e4751ed20abc5b6c07b9\n",
            "  Stored in directory: /root/.cache/pip/wheels/35/cb/a5/8f534c60142835bfc889f9a482e4a67e0b817032d9c6883b64\n",
            "Successfully built efficientnet-pytorch pretrainedmodels\n",
            "Installing collected packages: munch, efficientnet-pytorch, timm, pretrainedmodels, segmentation-models-pytorch\n",
            "Successfully installed efficientnet-pytorch-0.7.1 munch-4.0.0 pretrainedmodels-0.7.4 segmentation-models-pytorch-0.3.4 timm-0.9.7\n"
          ]
        }
      ]
    },
    {
      "cell_type": "markdown",
      "source": [
        "Import Libraries"
      ],
      "metadata": {
        "id": "L_S6ueDAzCIv"
      }
    },
    {
      "cell_type": "code",
      "source": [
        "import torch\n",
        "import torch.nn as nn\n",
        "import torch.nn.functional as F\n",
        "import torchvision.transforms as transforms\n",
        "from torch.utils.data import DataLoader\n",
        "from medmnist import PneumoniaMNIST\n",
        "from sklearn.metrics import accuracy_score, f1_score, confusion_matrix, recall_score, precision_score, roc_curve, auc\n",
        "import matplotlib.pyplot as plt\n",
        "import seaborn as sns\n",
        "import numpy as np\n",
        "from collections import Counter\n",
        "from torchsummary import summary\n",
        "import pandas as pd\n",
        "import segmentation_models_pytorch as smp\n"
      ],
      "metadata": {
        "id": "yN6L9j7UzGQU"
      },
      "execution_count": null,
      "outputs": []
    },
    {
      "cell_type": "markdown",
      "source": [
        "Device Configuration"
      ],
      "metadata": {
        "id": "PzmfE-r5zK90"
      }
    },
    {
      "cell_type": "code",
      "source": [
        "device = torch.device('cuda' if torch.cuda.is_available() else 'cpu')\n",
        "print(f'Using device: {device}')\n"
      ],
      "metadata": {
        "colab": {
          "base_uri": "https://localhost:8080/"
        },
        "id": "OfRG58zezOWX",
        "outputId": "d9a187d2-eb61-4bbd-c7e5-e41700a99e39"
      },
      "execution_count": null,
      "outputs": [
        {
          "output_type": "stream",
          "name": "stdout",
          "text": [
            "Using device: cpu\n"
          ]
        }
      ]
    },
    {
      "cell_type": "markdown",
      "source": [
        "Data Transformations\n"
      ],
      "metadata": {
        "id": "4NlwKKmezTRB"
      }
    },
    {
      "cell_type": "code",
      "source": [
        "from torchvision.transforms import Resize\n",
        "\n",
        "# Data Transformations (Updated)\n",
        "transform = transforms.Compose([\n",
        "    Resize((32, 32)),                      # Resize to 32x32 to match DeepLabv3 input requirements\n",
        "    transforms.RandomHorizontalFlip(),\n",
        "    transforms.RandomRotation(10),\n",
        "    transforms.ToTensor(),\n",
        "    transforms.Normalize(mean=[0.5], std=[0.5])\n",
        "])\n",
        "\n"
      ],
      "metadata": {
        "id": "laKeZfHpzXV6"
      },
      "execution_count": null,
      "outputs": []
    },
    {
      "cell_type": "markdown",
      "source": [
        "Load PneumoniaMNIST Dataset"
      ],
      "metadata": {
        "id": "ikDtuvbuzaSW"
      }
    },
    {
      "cell_type": "code",
      "source": [
        "# Updated Data Transformations to Resize Images to (32, 32)\n",
        "transform = transforms.Compose([\n",
        "    Resize((32, 32)),                      # Resize to 32x32\n",
        "    transforms.RandomHorizontalFlip(),\n",
        "    transforms.RandomRotation(10),\n",
        "    transforms.ToTensor(),\n",
        "    transforms.Normalize(mean=[0.5], std=[0.5])\n",
        "])`````````````````\n",
        "\n",
        "# Loading PneumoniaMNIST Dataset\n",
        "train_data = PneumoniaMNIST(split='train', transform=transform, target_transform=lambda x: int(x), download=True)\n",
        "val_data = PneumoniaMNIST(split='val', transform=transform, target_transform=lambda x: int(x), download=True)\n",
        "test_data = PneumoniaMNIST(split='test', transform=transform, target_transform=lambda x: int(x), download=True)\n"
      ],
      "metadata": {
        "colab": {
          "base_uri": "https://localhost:8080/"
        },
        "id": "J57tYeVWzdxU",
        "outputId": "4865b6d5-0879-43f0-9407-5052f4d67aff"
      },
      "execution_count": null,
      "outputs": [
        {
          "output_type": "stream",
          "name": "stdout",
          "text": [
            "Using downloaded and verified file: /root/.medmnist/pneumoniamnist.npz\n",
            "Using downloaded and verified file: /root/.medmnist/pneumoniamnist.npz\n",
            "Using downloaded and verified file: /root/.medmnist/pneumoniamnist.npz\n"
          ]
        }
      ]
    },
    {
      "cell_type": "markdown",
      "source": [
        "Handle Class Imbalance"
      ],
      "metadata": {
        "id": "EV0wC9xzzf49"
      }
    },
    {
      "cell_type": "code",
      "source": [
        "#######*****\n",
        "\n",
        "train_labels = [label for _, label in train_data]\n",
        "class_counts = Counter(train_labels)\n",
        "total_samples = sum(class_counts.values())\n",
        "class_weights = [total_samples / class_counts[i] for i in range(len(class_counts))]\n",
        "class_weights = torch.tensor(class_weights, dtype=torch.float).to(device)\n"
      ],
      "metadata": {
        "colab": {
          "base_uri": "https://localhost:8080/"
        },
        "id": "pWGJHn1izkfL",
        "outputId": "245b286e-fab3-4861-b82e-21fa9c5cb8eb"
      },
      "execution_count": null,
      "outputs": [
        {
          "output_type": "stream",
          "name": "stderr",
          "text": [
            "<ipython-input-39-6981f3665fd5>:11: DeprecationWarning: Conversion of an array with ndim > 0 to a scalar is deprecated, and will error in future. Ensure you extract a single element from your array before performing this operation. (Deprecated NumPy 1.25.)\n",
            "  train_data = PneumoniaMNIST(split='train', transform=transform, target_transform=lambda x: int(x), download=True)\n"
          ]
        }
      ]
    },
    {
      "cell_type": "markdown",
      "source": [
        "Data Loaders\n"
      ],
      "metadata": {
        "id": "C3-No5Qmzm_s"
      }
    },
    {
      "cell_type": "code",
      "source": [
        "batch_size = 32\n",
        "train_loader = DataLoader(dataset=train_data, batch_size=batch_size, shuffle=True)\n",
        "val_loader = DataLoader(dataset=val_data, batch_size=batch_size, shuffle=False)\n",
        "test_loader = DataLoader(dataset=test_data, batch_size=batch_size, shuffle=False)\n"
      ],
      "metadata": {
        "id": "sibMdrREzrB0"
      },
      "execution_count": null,
      "outputs": []
    },
    {
      "cell_type": "markdown",
      "source": [
        "Define DeepLabv3 Model"
      ],
      "metadata": {
        "id": "0S4k6MWYzwZw"
      }
    },
    {
      "cell_type": "code",
      "source": [
        "import segmentation_models_pytorch as smp\n",
        "import torch.nn as nn\n",
        "\n",
        "class DeepLabv3ClassificationModel(nn.Module):\n",
        "    def __init__(self):\n",
        "        super(DeepLabv3ClassificationModel, self).__init__()\n",
        "        # Use the DeepLabV3 with ResNet50 backbone\n",
        "        self.deeplab = smp.DeepLabV3(\n",
        "            encoder_name='resnet50',        # Use ResNet-50 as the encoder\n",
        "            encoder_weights='imagenet',     # Pre-trained on ImageNet\n",
        "            in_channels=1,                  # Single-channel input (grayscale)\n",
        "            classes=2                       # Binary classification (not used directly)\n",
        "        )\n",
        "\n",
        "        # Global Average Pooling Layer\n",
        "        self.global_avg_pool = nn.AdaptiveAvgPool2d((1, 1))\n",
        "\n",
        "        # Fully Connected Layer for Classification\n",
        "        self.fc = nn.Linear(2048, 2)  # Assuming ResNet-50 output feature map has 2048 channels\n",
        "\n",
        "    def forward(self, x):\n",
        "        # Forward pass through the encoder of DeepLabV3\n",
        "        encoder_output = self.deeplab.encoder(x)\n",
        "\n",
        "        # Ensure the encoder output is correctly extracted\n",
        "        if isinstance(encoder_output, (tuple, list)):\n",
        "            x = encoder_output[-1]  # Use the deepest feature map for classification\n",
        "        else:\n",
        "            x = encoder_output\n",
        "\n",
        "        # Now x should be a tensor, suitable for the next layers\n",
        "        x = self.global_avg_pool(x)  # Apply global average pooling\n",
        "        x = torch.flatten(x, 1)      # Flatten the feature map to vector\n",
        "        x = self.fc(x)               # Fully connected layer for classification\n",
        "        return x\n",
        "\n",
        "# Instantiate the model\n",
        "deeplab_classification_model = DeepLabv3ClassificationModel().to(device)\n"
      ],
      "metadata": {
        "id": "F3YWlHjyzxxG"
      },
      "execution_count": null,
      "outputs": []
    },
    {
      "cell_type": "markdown",
      "source": [
        "Define Loss Function and Optimizer"
      ],
      "metadata": {
        "id": "P4QYqZIK0Ldm"
      }
    },
    {
      "cell_type": "code",
      "source": [
        "# Define Loss Function and Optimizer\n",
        "criterion = nn.CrossEntropyLoss(weight=class_weights)\n",
        "optimizer = torch.optim.Adam(deeplab_classification_model.parameters(), lr=0.001)\n"
      ],
      "metadata": {
        "id": "t43KKKABz0Q6"
      },
      "execution_count": null,
      "outputs": []
    },
    {
      "cell_type": "markdown",
      "source": [
        "Training Function"
      ],
      "metadata": {
        "id": "SkzO76hN0Qqj"
      }
    },
    {
      "cell_type": "code",
      "source": [
        "def train_model(model, train_loader, val_loader, criterion, optimizer, num_epochs=10):\n",
        "    for epoch in range(num_epochs):\n",
        "        model.train()\n",
        "        running_loss = 0.0\n",
        "        correct = 0\n",
        "        total = 0\n",
        "\n",
        "        # Training loop\n",
        "        for images, labels in train_loader:\n",
        "            images, labels = images.to(device), labels.to(device).view(-1)\n",
        "            optimizer.zero_grad()\n",
        "            outputs = model(images)\n",
        "            loss = criterion(outputs, labels)\n",
        "            loss.backward()\n",
        "            optimizer.step()\n",
        "\n",
        "            running_loss += loss.item()\n",
        "            _, predicted = torch.max(outputs.data, 1)\n",
        "            total += labels.size(0)\n",
        "            correct += (predicted == labels).sum().item()\n",
        "\n",
        "        train_accuracy = 100 * correct / total\n",
        "        train_loss = running_loss / len(train_loader)\n",
        "\n",
        "        # Validation loop\n",
        "        model.eval()\n",
        "        val_loss = 0.0\n",
        "        val_correct = 0\n",
        "        val_total = 0\n",
        "        with torch.no_grad():\n",
        "            for images, labels in val_loader:\n",
        "                images, labels = images.to(device), labels.to(device).view(-1)\n",
        "                outputs = model(images)\n",
        "                loss = criterion(outputs, labels)\n",
        "                val_loss += loss.item()\n",
        "                _, predicted = torch.max(outputs.data, 1)\n",
        "                val_total += labels.size(0)\n",
        "                val_correct += (predicted == labels).sum().item()\n",
        "        val_accuracy = 100 * val_correct / val_total\n",
        "        val_loss = val_loss / len(val_loader)\n",
        "        print(f\"Epoch {epoch+1}/{num_epochs}, \"\n",
        "              f\"Train Loss: {train_loss:.4f}, Train Accuracy: {train_accuracy:.2f}%, \"\n",
        "              f\"Val Loss: {val_loss:.4f}, Val Accuracy: {val_accuracy:.2f}%\")\n",
        "        model.train()\n",
        "\n",
        "# Train the Model\n",
        "num_epochs = 10\n",
        "train_model(deeplab_classification_model, train_loader, val_loader, criterion, optimizer, num_epochs=num_epochs)\n"
      ],
      "metadata": {
        "colab": {
          "base_uri": "https://localhost:8080/"
        },
        "id": "mISKw1gc0UKn",
        "outputId": "a9097895-cb8c-49e7-9500-f47681a379d2"
      },
      "execution_count": null,
      "outputs": [
        {
          "output_type": "stream",
          "name": "stderr",
          "text": [
            "<ipython-input-39-6981f3665fd5>:11: DeprecationWarning: Conversion of an array with ndim > 0 to a scalar is deprecated, and will error in future. Ensure you extract a single element from your array before performing this operation. (Deprecated NumPy 1.25.)\n",
            "  train_data = PneumoniaMNIST(split='train', transform=transform, target_transform=lambda x: int(x), download=True)\n",
            "<ipython-input-39-6981f3665fd5>:12: DeprecationWarning: Conversion of an array with ndim > 0 to a scalar is deprecated, and will error in future. Ensure you extract a single element from your array before performing this operation. (Deprecated NumPy 1.25.)\n",
            "  val_data = PneumoniaMNIST(split='val', transform=transform, target_transform=lambda x: int(x), download=True)\n"
          ]
        },
        {
          "output_type": "stream",
          "name": "stdout",
          "text": [
            "Epoch 1/10, Train Loss: 0.1939, Train Accuracy: 92.74%, Val Loss: 0.1377, Val Accuracy: 94.47%\n",
            "Epoch 2/10, Train Loss: 0.1314, Train Accuracy: 95.11%, Val Loss: 0.1378, Val Accuracy: 96.18%\n",
            "Epoch 3/10, Train Loss: 0.1282, Train Accuracy: 94.88%, Val Loss: 0.1000, Val Accuracy: 96.76%\n",
            "Epoch 4/10, Train Loss: 0.1198, Train Accuracy: 95.48%, Val Loss: 0.1273, Val Accuracy: 96.18%\n",
            "Epoch 5/10, Train Loss: 0.1085, Train Accuracy: 95.82%, Val Loss: 0.0906, Val Accuracy: 96.37%\n",
            "Epoch 6/10, Train Loss: 0.1098, Train Accuracy: 96.30%, Val Loss: 0.0969, Val Accuracy: 95.80%\n",
            "Epoch 7/10, Train Loss: 0.1257, Train Accuracy: 95.54%, Val Loss: 0.1871, Val Accuracy: 95.04%\n",
            "Epoch 8/10, Train Loss: 0.1109, Train Accuracy: 96.22%, Val Loss: 0.1068, Val Accuracy: 93.89%\n",
            "Epoch 9/10, Train Loss: 0.0963, Train Accuracy: 96.03%, Val Loss: 0.1373, Val Accuracy: 93.89%\n",
            "Epoch 10/10, Train Loss: 0.0948, Train Accuracy: 96.16%, Val Loss: 0.0742, Val Accuracy: 97.14%\n"
          ]
        }
      ]
    },
    {
      "cell_type": "markdown",
      "source": [
        "Evaluation Function"
      ],
      "metadata": {
        "id": "RwDX3pho0Xcx"
      }
    },
    {
      "cell_type": "code",
      "source": [
        "from sklearn.metrics import accuracy_score, f1_score, confusion_matrix, recall_score, precision_score, roc_curve, auc\n",
        "\n",
        "def evaluate_model(model, test_loader):\n",
        "    model.eval()\n",
        "    all_preds = []\n",
        "    all_labels = []\n",
        "    all_preds_prob = []\n",
        "\n",
        "    with torch.no_grad():\n",
        "        for images, labels in test_loader:\n",
        "            images, labels = images.to(device), labels.to(device).view(-1)\n",
        "            outputs = model(images)\n",
        "            _, predicted = torch.max(outputs.data, 1)\n",
        "\n",
        "            # Convert tensors to numpy arrays\n",
        "            all_preds.extend(predicted.cpu().numpy())\n",
        "            all_labels.extend(labels.cpu().numpy())\n",
        "            all_preds_prob.extend(torch.softmax(outputs, dim=1).cpu().numpy())\n",
        "\n",
        "    # Ensure both are numpy arrays\n",
        "    all_labels = np.array(all_labels)\n",
        "    all_preds = np.array(all_preds)\n",
        "\n",
        "    # Compute metrics\n",
        "    try:\n",
        "        accuracy = accuracy_score(all_labels, all_preds)\n",
        "        f1 = f1_score(all_labels, all_preds, average='weighted')\n",
        "        recall = recall_score(all_labels, all_preds, average='weighted')\n",
        "        precision = precision_score(all_labels, all_preds, average='weighted')\n",
        "        conf_matrix = confusion_matrix(all_labels, all_preds)\n",
        "\n",
        "        print(f\"Accuracy: {accuracy:.4f}\")\n",
        "        print(f\"F1 Score: {f1:.4f}\")\n",
        "        print(f\"Recall: {recall:.4f}\")\n",
        "        print(f\"Precision: {precision:.4f}\")\n",
        "        print(f\"Confusion Matrix:\\n{conf_matrix}\")\n",
        "\n",
        "        # Plot confusion matrix\n",
        "        plt.figure(figsize=(6, 5))\n",
        "        sns.heatmap(conf_matrix, annot=True, fmt='d', cmap='Blues')\n",
        "        plt.xlabel('Predicted Labels')\n",
        "        plt.ylabel('True Labels')\n",
        "        plt.show()\n",
        "\n",
        "        # ROC Curve\n",
        "        fpr, tpr, _ = roc_curve(all_labels, np.array(all_preds_prob)[:, 1])\n",
        "        roc_auc = auc(fpr, tpr)\n",
        "        plt.figure()\n",
        "        plt.plot(fpr, tpr, color='blue', lw=2, label=f'ROC curve (area = {roc_auc:.2f})')\n",
        "        plt.plot([0, 1], [0, 1], color='gray', linestyle='--')\n",
        "        plt.xlabel('False Positive Rate')\n",
        "        plt.ylabel('True Positive Rate')\n",
        "        plt.title('Receiver Operating Characteristic (ROC) Curve')\n",
        "        plt.legend(loc='lower right')\n",
        "        plt.show()\n",
        "\n",
        "    except ValueError as e:\n",
        "        print(f\"Error during metric calculation: {e}\")\n",
        "\n",
        "# Evaluate the Model\n",
        "evaluate_model(deeplab_classification_model, test_loader)\n"
      ],
      "metadata": {
        "colab": {
          "base_uri": "https://localhost:8080/",
          "height": 1000
        },
        "id": "2vJ2SL2Y0bfJ",
        "outputId": "ba972fbf-0780-4402-bd3b-1bb3bba2a73d"
      },
      "execution_count": null,
      "outputs": [
        {
          "output_type": "stream",
          "name": "stderr",
          "text": [
            "<ipython-input-39-6981f3665fd5>:13: DeprecationWarning: Conversion of an array with ndim > 0 to a scalar is deprecated, and will error in future. Ensure you extract a single element from your array before performing this operation. (Deprecated NumPy 1.25.)\n",
            "  test_data = PneumoniaMNIST(split='test', transform=transform, target_transform=lambda x: int(x), download=True)\n"
          ]
        },
        {
          "output_type": "stream",
          "name": "stdout",
          "text": [
            "Accuracy: 0.8574\n",
            "F1 Score: 0.8492\n",
            "Recall: 0.8574\n",
            "Precision: 0.8774\n",
            "Confusion Matrix:\n",
            "[[149  85]\n",
            " [  4 386]]\n"
          ]
        },
        {
          "output_type": "display_data",
          "data": {
            "text/plain": [
              "<Figure size 600x500 with 2 Axes>"
            ],
            "image/png": "[encoded data removed]"
          },
          "metadata": {}
        },
        {
          "output_type": "display_data",
          "data": {
            "text/plain": [
              "<Figure size 640x480 with 1 Axes>"
            ],
            "image/png": "[encoded data removed]"
          },
          "metadata": {}
        }
      ]
    },
    {
      "cell_type": "markdown",
      "source": [
        "Class Distribution Visualization"
      ],
      "metadata": {
        "id": "MgiOD2HS0drG"
      }
    },
    {
      "cell_type": "code",
      "source": [
        "labels = [label for _, label in train_data]\n",
        "labels_df = pd.DataFrame(labels, columns=['Class'])\n",
        "sns.countplot(x='Class', data=labels_df)\n",
        "plt.xlabel('Class Labels')\n",
        "plt.ylabel('Frequency')\n",
        "plt.title('Class Distribution in Training Data')\n",
        "plt.show()\n"
      ],
      "metadata": {
        "colab": {
          "base_uri": "https://localhost:8080/",
          "height": 508
        },
        "id": "umzZ9x8R0ka5",
        "outputId": "135e47a4-7138-4f77-cf0b-fdfa89b8f975"
      },
      "execution_count": null,
      "outputs": [
        {
          "output_type": "stream",
          "name": "stderr",
          "text": [
            "<ipython-input-39-6981f3665fd5>:11: DeprecationWarning: Conversion of an array with ndim > 0 to a scalar is deprecated, and will error in future. Ensure you extract a single element from your array before performing this operation. (Deprecated NumPy 1.25.)\n",
            "  train_data = PneumoniaMNIST(split='train', transform=transform, target_transform=lambda x: int(x), download=True)\n"
          ]
        },
        {
          "output_type": "display_data",
          "data": {
            "text/plain": [
              "<Figure size 640x480 with 1 Axes>"
            ],
            "image/png": "[encoded data removed]"
          },
          "metadata": {}
        }
      ]
    },
    {
      "cell_type": "markdown",
      "source": [
        "Model Architecture Visualization"
      ],
      "metadata": {
        "id": "9fNIiLns0nGS"
      }
    },
    {
      "cell_type": "code",
      "source": [
        "from torchsummary import summary\n",
        "\n",
        "# Update the input size to (1, 32, 32) as required by DeepLabv3\n",
        "summary(deeplab_classification_model, input_size=(1, 32, 32))\n"
      ],
      "metadata": {
        "colab": {
          "base_uri": "https://localhost:8080/"
        },
        "id": "5qP1XUjY0pqt",
        "outputId": "556547d7-627e-4ea9-fe8d-b90af92a6957"
      },
      "execution_count": null,
      "outputs": [
        {
          "output_type": "stream",
          "name": "stdout",
          "text": [
            "----------------------------------------------------------------\n",
            "        Layer (type)               Output Shape         Param #\n",
            "================================================================\n",
            "            Conv2d-1           [-1, 64, 16, 16]           3,136\n",
            "       BatchNorm2d-2           [-1, 64, 16, 16]             128\n",
            "              ReLU-3           [-1, 64, 16, 16]               0\n",
            "         MaxPool2d-4             [-1, 64, 8, 8]               0\n",
            "            Conv2d-5             [-1, 64, 8, 8]           4,096\n",
            "       BatchNorm2d-6             [-1, 64, 8, 8]             128\n",
            "              ReLU-7             [-1, 64, 8, 8]               0\n",
            "            Conv2d-8             [-1, 64, 8, 8]          36,864\n",
            "       BatchNorm2d-9             [-1, 64, 8, 8]             128\n",
            "             ReLU-10             [-1, 64, 8, 8]               0\n",
            "           Conv2d-11            [-1, 256, 8, 8]          16,384\n",
            "      BatchNorm2d-12            [-1, 256, 8, 8]             512\n",
            "           Conv2d-13            [-1, 256, 8, 8]          16,384\n",
            "      BatchNorm2d-14            [-1, 256, 8, 8]             512\n",
            "             ReLU-15            [-1, 256, 8, 8]               0\n",
            "       Bottleneck-16            [-1, 256, 8, 8]               0\n",
            "           Conv2d-17             [-1, 64, 8, 8]          16,384\n",
            "      BatchNorm2d-18             [-1, 64, 8, 8]             128\n",
            "             ReLU-19             [-1, 64, 8, 8]               0\n",
            "           Conv2d-20             [-1, 64, 8, 8]          36,864\n",
            "      BatchNorm2d-21             [-1, 64, 8, 8]             128\n",
            "             ReLU-22             [-1, 64, 8, 8]               0\n",
            "           Conv2d-23            [-1, 256, 8, 8]          16,384\n",
            "      BatchNorm2d-24            [-1, 256, 8, 8]             512\n",
            "             ReLU-25            [-1, 256, 8, 8]               0\n",
            "       Bottleneck-26            [-1, 256, 8, 8]               0\n",
            "           Conv2d-27             [-1, 64, 8, 8]          16,384\n",
            "      BatchNorm2d-28             [-1, 64, 8, 8]             128\n",
            "             ReLU-29             [-1, 64, 8, 8]               0\n",
            "           Conv2d-30             [-1, 64, 8, 8]          36,864\n",
            "      BatchNorm2d-31             [-1, 64, 8, 8]             128\n",
            "             ReLU-32             [-1, 64, 8, 8]               0\n",
            "           Conv2d-33            [-1, 256, 8, 8]          16,384\n",
            "      BatchNorm2d-34            [-1, 256, 8, 8]             512\n",
            "             ReLU-35            [-1, 256, 8, 8]               0\n",
            "       Bottleneck-36            [-1, 256, 8, 8]               0\n",
            "           Conv2d-37            [-1, 128, 8, 8]          32,768\n",
            "      BatchNorm2d-38            [-1, 128, 8, 8]             256\n",
            "             ReLU-39            [-1, 128, 8, 8]               0\n",
            "           Conv2d-40            [-1, 128, 4, 4]         147,456\n",
            "      BatchNorm2d-41            [-1, 128, 4, 4]             256\n",
            "             ReLU-42            [-1, 128, 4, 4]               0\n",
            "           Conv2d-43            [-1, 512, 4, 4]          65,536\n",
            "      BatchNorm2d-44            [-1, 512, 4, 4]           1,024\n",
            "           Conv2d-45            [-1, 512, 4, 4]         131,072\n",
            "      BatchNorm2d-46            [-1, 512, 4, 4]           1,024\n",
            "             ReLU-47            [-1, 512, 4, 4]               0\n",
            "       Bottleneck-48            [-1, 512, 4, 4]               0\n",
            "           Conv2d-49            [-1, 128, 4, 4]          65,536\n",
            "      BatchNorm2d-50            [-1, 128, 4, 4]             256\n",
            "             ReLU-51            [-1, 128, 4, 4]               0\n",
            "           Conv2d-52            [-1, 128, 4, 4]         147,456\n",
            "      BatchNorm2d-53            [-1, 128, 4, 4]             256\n",
            "             ReLU-54            [-1, 128, 4, 4]               0\n",
            "           Conv2d-55            [-1, 512, 4, 4]          65,536\n",
            "      BatchNorm2d-56            [-1, 512, 4, 4]           1,024\n",
            "             ReLU-57            [-1, 512, 4, 4]               0\n",
            "       Bottleneck-58            [-1, 512, 4, 4]               0\n",
            "           Conv2d-59            [-1, 128, 4, 4]          65,536\n",
            "      BatchNorm2d-60            [-1, 128, 4, 4]             256\n",
            "             ReLU-61            [-1, 128, 4, 4]               0\n",
            "           Conv2d-62            [-1, 128, 4, 4]         147,456\n",
            "      BatchNorm2d-63            [-1, 128, 4, 4]             256\n",
            "             ReLU-64            [-1, 128, 4, 4]               0\n",
            "           Conv2d-65            [-1, 512, 4, 4]          65,536\n",
            "      BatchNorm2d-66            [-1, 512, 4, 4]           1,024\n",
            "             ReLU-67            [-1, 512, 4, 4]               0\n",
            "       Bottleneck-68            [-1, 512, 4, 4]               0\n",
            "           Conv2d-69            [-1, 128, 4, 4]          65,536\n",
            "      BatchNorm2d-70            [-1, 128, 4, 4]             256\n",
            "             ReLU-71            [-1, 128, 4, 4]               0\n",
            "           Conv2d-72            [-1, 128, 4, 4]         147,456\n",
            "      BatchNorm2d-73            [-1, 128, 4, 4]             256\n",
            "             ReLU-74            [-1, 128, 4, 4]               0\n",
            "           Conv2d-75            [-1, 512, 4, 4]          65,536\n",
            "      BatchNorm2d-76            [-1, 512, 4, 4]           1,024\n",
            "             ReLU-77            [-1, 512, 4, 4]               0\n",
            "       Bottleneck-78            [-1, 512, 4, 4]               0\n",
            "           Conv2d-79            [-1, 256, 4, 4]         131,072\n",
            "      BatchNorm2d-80            [-1, 256, 4, 4]             512\n",
            "             ReLU-81            [-1, 256, 4, 4]               0\n",
            "           Conv2d-82            [-1, 256, 4, 4]         589,824\n",
            "      BatchNorm2d-83            [-1, 256, 4, 4]             512\n",
            "             ReLU-84            [-1, 256, 4, 4]               0\n",
            "           Conv2d-85           [-1, 1024, 4, 4]         262,144\n",
            "      BatchNorm2d-86           [-1, 1024, 4, 4]           2,048\n",
            "           Conv2d-87           [-1, 1024, 4, 4]         524,288\n",
            "      BatchNorm2d-88           [-1, 1024, 4, 4]           2,048\n",
            "             ReLU-89           [-1, 1024, 4, 4]               0\n",
            "       Bottleneck-90           [-1, 1024, 4, 4]               0\n",
            "           Conv2d-91            [-1, 256, 4, 4]         262,144\n",
            "      BatchNorm2d-92            [-1, 256, 4, 4]             512\n",
            "             ReLU-93            [-1, 256, 4, 4]               0\n",
            "           Conv2d-94            [-1, 256, 4, 4]         589,824\n",
            "      BatchNorm2d-95            [-1, 256, 4, 4]             512\n",
            "             ReLU-96            [-1, 256, 4, 4]               0\n",
            "           Conv2d-97           [-1, 1024, 4, 4]         262,144\n",
            "      BatchNorm2d-98           [-1, 1024, 4, 4]           2,048\n",
            "             ReLU-99           [-1, 1024, 4, 4]               0\n",
            "      Bottleneck-100           [-1, 1024, 4, 4]               0\n",
            "          Conv2d-101            [-1, 256, 4, 4]         262,144\n",
            "     BatchNorm2d-102            [-1, 256, 4, 4]             512\n",
            "            ReLU-103            [-1, 256, 4, 4]               0\n",
            "          Conv2d-104            [-1, 256, 4, 4]         589,824\n",
            "     BatchNorm2d-105            [-1, 256, 4, 4]             512\n",
            "            ReLU-106            [-1, 256, 4, 4]               0\n",
            "          Conv2d-107           [-1, 1024, 4, 4]         262,144\n",
            "     BatchNorm2d-108           [-1, 1024, 4, 4]           2,048\n",
            "            ReLU-109           [-1, 1024, 4, 4]               0\n",
            "      Bottleneck-110           [-1, 1024, 4, 4]               0\n",
            "          Conv2d-111            [-1, 256, 4, 4]         262,144\n",
            "     BatchNorm2d-112            [-1, 256, 4, 4]             512\n",
            "            ReLU-113            [-1, 256, 4, 4]               0\n",
            "          Conv2d-114            [-1, 256, 4, 4]         589,824\n",
            "     BatchNorm2d-115            [-1, 256, 4, 4]             512\n",
            "            ReLU-116            [-1, 256, 4, 4]               0\n",
            "          Conv2d-117           [-1, 1024, 4, 4]         262,144\n",
            "     BatchNorm2d-118           [-1, 1024, 4, 4]           2,048\n",
            "            ReLU-119           [-1, 1024, 4, 4]               0\n",
            "      Bottleneck-120           [-1, 1024, 4, 4]               0\n",
            "          Conv2d-121            [-1, 256, 4, 4]         262,144\n",
            "     BatchNorm2d-122            [-1, 256, 4, 4]             512\n",
            "            ReLU-123            [-1, 256, 4, 4]               0\n",
            "          Conv2d-124            [-1, 256, 4, 4]         589,824\n",
            "     BatchNorm2d-125            [-1, 256, 4, 4]             512\n",
            "            ReLU-126            [-1, 256, 4, 4]               0\n",
            "          Conv2d-127           [-1, 1024, 4, 4]         262,144\n",
            "     BatchNorm2d-128           [-1, 1024, 4, 4]           2,048\n",
            "            ReLU-129           [-1, 1024, 4, 4]               0\n",
            "      Bottleneck-130           [-1, 1024, 4, 4]               0\n",
            "          Conv2d-131            [-1, 256, 4, 4]         262,144\n",
            "     BatchNorm2d-132            [-1, 256, 4, 4]             512\n",
            "            ReLU-133            [-1, 256, 4, 4]               0\n",
            "          Conv2d-134            [-1, 256, 4, 4]         589,824\n",
            "     BatchNorm2d-135            [-1, 256, 4, 4]             512\n",
            "            ReLU-136            [-1, 256, 4, 4]               0\n",
            "          Conv2d-137           [-1, 1024, 4, 4]         262,144\n",
            "     BatchNorm2d-138           [-1, 1024, 4, 4]           2,048\n",
            "            ReLU-139           [-1, 1024, 4, 4]               0\n",
            "      Bottleneck-140           [-1, 1024, 4, 4]               0\n",
            "          Conv2d-141            [-1, 512, 4, 4]         524,288\n",
            "     BatchNorm2d-142            [-1, 512, 4, 4]           1,024\n",
            "            ReLU-143            [-1, 512, 4, 4]               0\n",
            "          Conv2d-144            [-1, 512, 4, 4]       2,359,296\n",
            "     BatchNorm2d-145            [-1, 512, 4, 4]           1,024\n",
            "            ReLU-146            [-1, 512, 4, 4]               0\n",
            "          Conv2d-147           [-1, 2048, 4, 4]       1,048,576\n",
            "     BatchNorm2d-148           [-1, 2048, 4, 4]           4,096\n",
            "          Conv2d-149           [-1, 2048, 4, 4]       2,097,152\n",
            "     BatchNorm2d-150           [-1, 2048, 4, 4]           4,096\n",
            "            ReLU-151           [-1, 2048, 4, 4]               0\n",
            "      Bottleneck-152           [-1, 2048, 4, 4]               0\n",
            "          Conv2d-153            [-1, 512, 4, 4]       1,048,576\n",
            "     BatchNorm2d-154            [-1, 512, 4, 4]           1,024\n",
            "            ReLU-155            [-1, 512, 4, 4]               0\n",
            "          Conv2d-156            [-1, 512, 4, 4]       2,359,296\n",
            "     BatchNorm2d-157            [-1, 512, 4, 4]           1,024\n",
            "            ReLU-158            [-1, 512, 4, 4]               0\n",
            "          Conv2d-159           [-1, 2048, 4, 4]       1,048,576\n",
            "     BatchNorm2d-160           [-1, 2048, 4, 4]           4,096\n",
            "            ReLU-161           [-1, 2048, 4, 4]               0\n",
            "      Bottleneck-162           [-1, 2048, 4, 4]               0\n",
            "          Conv2d-163            [-1, 512, 4, 4]       1,048,576\n",
            "     BatchNorm2d-164            [-1, 512, 4, 4]           1,024\n",
            "            ReLU-165            [-1, 512, 4, 4]               0\n",
            "          Conv2d-166            [-1, 512, 4, 4]       2,359,296\n",
            "     BatchNorm2d-167            [-1, 512, 4, 4]           1,024\n",
            "            ReLU-168            [-1, 512, 4, 4]               0\n",
            "          Conv2d-169           [-1, 2048, 4, 4]       1,048,576\n",
            "     BatchNorm2d-170           [-1, 2048, 4, 4]           4,096\n",
            "            ReLU-171           [-1, 2048, 4, 4]               0\n",
            "      Bottleneck-172           [-1, 2048, 4, 4]               0\n",
            "   ResNetEncoder-173  [[-1, 1, 32, 32], [-1, 64, 16, 16], [-1, 256, 8, 8], [-1, 512, 4, 4], [-1, 1024, 4, 4], [-1, 2048, 4, 4]]               0\n",
            "AdaptiveAvgPool2d-174           [-1, 2048, 1, 1]               0\n",
            "          Linear-175                    [-1, 2]           4,098\n",
            "================================================================\n",
            "Total params: 23,505,858\n",
            "Trainable params: 23,505,858\n",
            "Non-trainable params: 0\n",
            "----------------------------------------------------------------\n",
            "Input size (MB): 0.00\n",
            "Forward/backward pass size (MB): 13.38\n",
            "Params size (MB): 89.67\n",
            "Estimated Total Size (MB): 103.05\n",
            "----------------------------------------------------------------\n"
          ]
        }
      ]
    },
    {
      "cell_type": "code",
      "source": [
        "#Show the final matrix of the final layer of deeplabv3\n",
        "\n",
        "# Install torchviz (use this if you are working in Google Colab)\n",
        "!pip install torchviz\n",
        "\n",
        "import torch\n",
        "from torchviz import make_dot\n",
        "\n",
        "# Sample input to pass through the model\n",
        "input_tensor = torch.randn(1, 1, 32, 32)  # Assuming grayscale X-rays resized to 32x32\n",
        "\n",
        "# Forward pass through the model\n",
        "deeplab_classification_model = DeepLabv3ClassificationModel()  # Use your trained model here\n",
        "output = deeplab_classification_model(input_tensor)\n",
        "\n",
        "# Generate the model diagram\n",
        "model_viz = make_dot(output, params=dict(deeplab_classification_model.named_parameters()))\n",
        "model_viz.format = 'png'\n",
        "model_viz.render('deeplabv3_architecture')\n"
      ],
      "metadata": {
        "colab": {
          "base_uri": "https://localhost:8080/",
          "height": 393
        },
        "id": "N-tkkJSPoFOH",
        "outputId": "aa05ccd2-897c-48a6-c06d-24939e4a4da2"
      },
      "execution_count": null,
      "outputs": [
        {
          "output_type": "stream",
          "name": "stdout",
          "text": [
            "Collecting torchviz\n",
            "  Downloading torchviz-0.0.2.tar.gz (4.9 kB)\n",
            "  Preparing metadata (setup.py) ... \u001b[?25l\u001b[?25hdone\n",
            "Requirement already satisfied: torch in /usr/local/lib/python3.10/dist-packages (from torchviz) (2.4.1+cu121)\n",
            "Requirement already satisfied: graphviz in /usr/local/lib/python3.10/dist-packages (from torchviz) (0.20.3)\n",
            "Requirement already satisfied: filelock in /usr/local/lib/python3.10/dist-packages (from torch->torchviz) (3.16.1)\n",
            "Requirement already satisfied: typing-extensions>=4.8.0 in /usr/local/lib/python3.10/dist-packages (from torch->torchviz) (4.12.2)\n",
            "Requirement already satisfied: sympy in /usr/local/lib/python3.10/dist-packages (from torch->torchviz) (1.13.3)\n",
            "Requirement already satisfied: networkx in /usr/local/lib/python3.10/dist-packages (from torch->torchviz) (3.3)\n",
            "Requirement already satisfied: jinja2 in /usr/local/lib/python3.10/dist-packages (from torch->torchviz) (3.1.4)\n",
            "Requirement already satisfied: fsspec in /usr/local/lib/python3.10/dist-packages (from torch->torchviz) (2024.6.1)\n",
            "Requirement already satisfied: MarkupSafe>=2.0 in /usr/local/lib/python3.10/dist-packages (from jinja2->torch->torchviz) (2.1.5)\n",
            "Requirement already satisfied: mpmath<1.4,>=1.1.0 in /usr/local/lib/python3.10/dist-packages (from sympy->torch->torchviz) (1.3.0)\n",
            "Building wheels for collected packages: torchviz\n",
            "  Building wheel for torchviz (setup.py) ... \u001b[?25l\u001b[?25hdone\n",
            "  Created wheel for torchviz: filename=torchviz-0.0.2-py3-none-any.whl size=4132 sha256=d869ecbefb6c0edbab70e4d6410be94cdda586045775d317c2b1c7945864b76d\n",
            "  Stored in directory: /root/.cache/pip/wheels/4c/97/88/a02973217949e0db0c9f4346d154085f4725f99c4f15a87094\n",
            "Successfully built torchviz\n",
            "Installing collected packages: torchviz\n",
            "Successfully installed torchviz-0.0.2\n"
          ]
        },
        {
          "output_type": "execute_result",
          "data": {
            "text/plain": [
              "'deeplabv3_architecture.png'"
            ],
            "application/vnd.google.colaboratory.intrinsic+json": {
              "type": "string"
            }
          },
          "metadata": {},
          "execution_count": 101
        }
      ]
    },
    {
      "cell_type": "code",
      "source": [],
      "metadata": {
        "id": "RnYQh2HChdZ1"
      },
      "execution_count": null,
      "outputs": []
    },
    {
      "cell_type": "code",
      "source": [
        "# Define the CNN-RNN model for visualization\n",
        "cnn_rnn_model = CNNRNN()  # Use your trained model here\n",
        "input_tensor_cnn_rnn = torch.randn(1, 1, 28, 28)  # Sample input of shape (batch_size, channels, height, width)\n",
        "\n",
        "# Forward pass through the model\n",
        "output_cnn_rnn = cnn_rnn_model(input_tensor_cnn_rnn)\n",
        "\n",
        "# Generate the diagram using torchviz\n",
        "model_viz_cnn_rnn = make_dot(output_cnn_rnn, params=dict(cnn_rnn_model.named_parameters()))\n",
        "model_viz_cnn_rnn.format = 'png'\n",
        "model_viz_cnn_rnn.render('cnn_rnn_architecture')\n"
      ],
      "metadata": {
        "colab": {
          "base_uri": "https://localhost:8080/",
          "height": 35
        },
        "id": "NixXG35koWW1",
        "outputId": "37aab9b8-620c-4bc1-a200-d4cd61fcfb4d"
      },
      "execution_count": null,
      "outputs": [
        {
          "output_type": "execute_result",
          "data": {
            "text/plain": [
              "'cnn_rnn_architecture.png'"
            ],
            "application/vnd.google.colaboratory.intrinsic+json": {
              "type": "string"
            }
          },
          "metadata": {},
          "execution_count": 103
        }
      ]
    },
    {
      "cell_type": "markdown",
      "source": [
        "Save Model"
      ],
      "metadata": {
        "id": "cE1AB5xmzCPz"
      }
    },
    {
      "cell_type": "code",
      "source": [
        "from google.colab import drive\n",
        "drive.mount('/content/drive')\n",
        "\n",
        "import torch\n",
        "\n",
        "# Assuming 'deeplab_model' is your DeepLabv3 model and 'cnn_rnn_model' is the CNN-RNN hybrid model\n",
        "deeplab_model_path = '/content/drive/My Drive/deeplab_model.pth'\n",
        "cnn_rnn_model_path = '/content/drive/My Drive/cnn_rnn_model.pth'\n",
        "\n",
        "# Save DeepLabv3 model\n",
        "torch.save(deeplab_model.state_dict(), deeplab_model_path)\n",
        "print(f\"DeepLabv3 model saved at {deeplab_model_path}\")\n",
        "\n",
        "# Save CNN-RNN model\n",
        "torch.save(cnn_rnn_model.state_dict(), cnn_rnn_model_path)\n",
        "print(f\"CNN-RNN model saved at {cnn_rnn_model_path}\")\n"
      ],
      "metadata": {
        "colab": {
          "base_uri": "https://localhost:8080/"
        },
        "id": "LMpUOhVWy8bJ",
        "outputId": "6690ffd4-1054-41f4-d784-6f9c28d14521"
      },
      "execution_count": null,
      "outputs": [
        {
          "output_type": "stream",
          "name": "stdout",
          "text": [
            "Drive already mounted at /content/drive; to attempt to forcibly remount, call drive.mount(\"/content/drive\", force_remount=True).\n",
            "DeepLabv3 model saved at /content/drive/My Drive/deeplab_model.pth\n",
            "CNN-RNN model saved at /content/drive/My Drive/cnn_rnn_model.pth\n"
          ]
        }
      ]
    },
    {
      "cell_type": "markdown",
      "source": [
        "Load Model"
      ],
      "metadata": {
        "id": "j01hnpZazQzU"
      }
    },
    {
      "cell_type": "code",
      "source": [
        "# Load DeepLabv3 model\n",
        "deeplab_model.load_state_dict(torch.load(deeplab_model_path))\n",
        "deeplab_model.eval()  # Set to evaluation mode\n",
        "\n",
        "# Load CNN-RNN model\n",
        "cnn_rnn_model.load_state_dict(torch.load(cnn_rnn_model_path))\n",
        "cnn_rnn_model.eval()  # Set to evaluation mode\n"
      ],
      "metadata": {
        "id": "qqCrGS12zSFz",
        "colab": {
          "base_uri": "https://localhost:8080/",
          "height": 211
        },
        "outputId": "77c335a0-de1f-416a-b0a1-d69a39e7aecb"
      },
      "execution_count": null,
      "outputs": [
        {
          "output_type": "error",
          "ename": "NameError",
          "evalue": "name 'deeplab_model' is not defined",
          "traceback": [
            "\u001b[0;31m---------------------------------------------------------------------------\u001b[0m",
            "\u001b[0;31mNameError\u001b[0m                                 Traceback (most recent call last)",
            "\u001b[0;32m<ipython-input-1-9bb25cb2cb70>\u001b[0m in \u001b[0;36m<cell line: 2>\u001b[0;34m()\u001b[0m\n\u001b[1;32m      1\u001b[0m \u001b[0;31m# Load DeepLabv3 model\u001b[0m\u001b[0;34m\u001b[0m\u001b[0;34m\u001b[0m\u001b[0m\n\u001b[0;32m----> 2\u001b[0;31m \u001b[0mdeeplab_model\u001b[0m\u001b[0;34m.\u001b[0m\u001b[0mload_state_dict\u001b[0m\u001b[0;34m(\u001b[0m\u001b[0mtorch\u001b[0m\u001b[0;34m.\u001b[0m\u001b[0mload\u001b[0m\u001b[0;34m(\u001b[0m\u001b[0mdeeplab_model_path\u001b[0m\u001b[0;34m)\u001b[0m\u001b[0;34m)\u001b[0m\u001b[0;34m\u001b[0m\u001b[0;34m\u001b[0m\u001b[0m\n\u001b[0m\u001b[1;32m      3\u001b[0m \u001b[0mdeeplab_model\u001b[0m\u001b[0;34m.\u001b[0m\u001b[0meval\u001b[0m\u001b[0;34m(\u001b[0m\u001b[0;34m)\u001b[0m  \u001b[0;31m# Set to evaluation mode\u001b[0m\u001b[0;34m\u001b[0m\u001b[0;34m\u001b[0m\u001b[0m\n\u001b[1;32m      4\u001b[0m \u001b[0;34m\u001b[0m\u001b[0m\n\u001b[1;32m      5\u001b[0m \u001b[0;31m# Load CNN-RNN model\u001b[0m\u001b[0;34m\u001b[0m\u001b[0;34m\u001b[0m\u001b[0m\n",
            "\u001b[0;31mNameError\u001b[0m: name 'deeplab_model' is not defined"
          ]
        }
      ]
    }
  ]
}