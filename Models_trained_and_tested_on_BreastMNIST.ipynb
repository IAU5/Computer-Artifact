{
  "nbformat": 4,
  "nbformat_minor": 0,
  "metadata": {
    "colab": {
      "provenance": []
    },
    "kernelspec": {
      "name": "python3",
      "display_name": "Python 3"
    },
    "language_info": {
      "name": "python"
    }
  },
  "cells": [
    {
      "cell_type": "code",
      "execution_count": 1,
      "metadata": {
        "colab": {
          "base_uri": "https://localhost:8080/"
        },
        "id": "7oXbbyx1tHuT",
        "outputId": "ad6c15de-487c-4e0c-e504-52217719a3ca"
      },
      "outputs": [
        {
          "output_type": "stream",
          "name": "stdout",
          "text": [
            "Mounted at /content/drive\n"
          ]
        }
      ],
      "source": [
        "from google.colab import drive\n",
        "drive.mount('/content/drive')\n"
      ]
    },
    {
      "cell_type": "markdown",
      "source": [
        "Install Required Packages"
      ],
      "metadata": {
        "id": "wAQYOffktzDd"
      }
    },
    {
      "cell_type": "code",
      "source": [
        "!pip install medmnist\n",
        "!pip install segmentation-models-pytorch\n"
      ],
      "metadata": {
        "colab": {
          "base_uri": "https://localhost:8080/"
        },
        "id": "o6C6RQYMtYAM",
        "outputId": "8aece992-b261-4f53-ed5f-72a2a227b3dd"
      },
      "execution_count": 2,
      "outputs": [
        {
          "output_type": "stream",
          "name": "stdout",
          "text": [
            "Collecting medmnist\n",
            "  Downloading medmnist-3.0.2-py3-none-any.whl.metadata (14 kB)\n",
            "Requirement already satisfied: numpy in /usr/local/lib/python3.10/dist-packages (from medmnist) (1.26.4)\n",
            "Requirement already satisfied: pandas in /usr/local/lib/python3.10/dist-packages (from medmnist) (2.2.2)\n",
            "Requirement already satisfied: scikit-learn in /usr/local/lib/python3.10/dist-packages (from medmnist) (1.5.2)\n",
            "Requirement already satisfied: scikit-image in /usr/local/lib/python3.10/dist-packages (from medmnist) (0.24.0)\n",
            "Requirement already satisfied: tqdm in /usr/local/lib/python3.10/dist-packages (from medmnist) (4.66.6)\n",
            "Requirement already satisfied: Pillow in /usr/local/lib/python3.10/dist-packages (from medmnist) (10.4.0)\n",
            "Collecting fire (from medmnist)\n",
            "  Downloading fire-0.7.0.tar.gz (87 kB)\n",
            "\u001b[?25l     \u001b[90m━━━━━━━━━━━━━━━━━━━━━━━━━━━━━━━━━━━━━━━━\u001b[0m \u001b[32m0.0/87.2 kB\u001b[0m \u001b[31m?\u001b[0m eta \u001b[36m-:--:--\u001b[0m\r\u001b[2K     \u001b[90m━━━━━━━━━━━━━━━━━━━━━━━━━━━━━━━━━━━━━━━━\u001b[0m \u001b[32m87.2/87.2 kB\u001b[0m \u001b[31m2.7 MB/s\u001b[0m eta \u001b[36m0:00:00\u001b[0m\n",
            "\u001b[?25h  Preparing metadata (setup.py) ... \u001b[?25l\u001b[?25hdone\n",
            "Requirement already satisfied: torch in /usr/local/lib/python3.10/dist-packages (from medmnist) (2.5.0+cu121)\n",
            "Requirement already satisfied: torchvision in /usr/local/lib/python3.10/dist-packages (from medmnist) (0.20.0+cu121)\n",
            "Requirement already satisfied: termcolor in /usr/local/lib/python3.10/dist-packages (from fire->medmnist) (2.5.0)\n",
            "Requirement already satisfied: python-dateutil>=2.8.2 in /usr/local/lib/python3.10/dist-packages (from pandas->medmnist) (2.8.2)\n",
            "Requirement already satisfied: pytz>=2020.1 in /usr/local/lib/python3.10/dist-packages (from pandas->medmnist) (2024.2)\n",
            "Requirement already satisfied: tzdata>=2022.7 in /usr/local/lib/python3.10/dist-packages (from pandas->medmnist) (2024.2)\n",
            "Requirement already satisfied: scipy>=1.9 in /usr/local/lib/python3.10/dist-packages (from scikit-image->medmnist) (1.13.1)\n",
            "Requirement already satisfied: networkx>=2.8 in /usr/local/lib/python3.10/dist-packages (from scikit-image->medmnist) (3.4.2)\n",
            "Requirement already satisfied: imageio>=2.33 in /usr/local/lib/python3.10/dist-packages (from scikit-image->medmnist) (2.36.0)\n",
            "Requirement already satisfied: tifffile>=2022.8.12 in /usr/local/lib/python3.10/dist-packages (from scikit-image->medmnist) (2024.9.20)\n",
            "Requirement already satisfied: packaging>=21 in /usr/local/lib/python3.10/dist-packages (from scikit-image->medmnist) (24.1)\n",
            "Requirement already satisfied: lazy-loader>=0.4 in /usr/local/lib/python3.10/dist-packages (from scikit-image->medmnist) (0.4)\n",
            "Requirement already satisfied: joblib>=1.2.0 in /usr/local/lib/python3.10/dist-packages (from scikit-learn->medmnist) (1.4.2)\n",
            "Requirement already satisfied: threadpoolctl>=3.1.0 in /usr/local/lib/python3.10/dist-packages (from scikit-learn->medmnist) (3.5.0)\n",
            "Requirement already satisfied: filelock in /usr/local/lib/python3.10/dist-packages (from torch->medmnist) (3.16.1)\n",
            "Requirement already satisfied: typing-extensions>=4.8.0 in /usr/local/lib/python3.10/dist-packages (from torch->medmnist) (4.12.2)\n",
            "Requirement already satisfied: jinja2 in /usr/local/lib/python3.10/dist-packages (from torch->medmnist) (3.1.4)\n",
            "Requirement already satisfied: fsspec in /usr/local/lib/python3.10/dist-packages (from torch->medmnist) (2024.10.0)\n",
            "Requirement already satisfied: sympy==1.13.1 in /usr/local/lib/python3.10/dist-packages (from torch->medmnist) (1.13.1)\n",
            "Requirement already satisfied: mpmath<1.4,>=1.1.0 in /usr/local/lib/python3.10/dist-packages (from sympy==1.13.1->torch->medmnist) (1.3.0)\n",
            "Requirement already satisfied: six>=1.5 in /usr/local/lib/python3.10/dist-packages (from python-dateutil>=2.8.2->pandas->medmnist) (1.16.0)\n",
            "Requirement already satisfied: MarkupSafe>=2.0 in /usr/local/lib/python3.10/dist-packages (from jinja2->torch->medmnist) (3.0.2)\n",
            "Downloading medmnist-3.0.2-py3-none-any.whl (25 kB)\n",
            "Building wheels for collected packages: fire\n",
            "  Building wheel for fire (setup.py) ... \u001b[?25l\u001b[?25hdone\n",
            "  Created wheel for fire: filename=fire-0.7.0-py3-none-any.whl size=114249 sha256=6e181e4122608457b05f59b89a788e03cbbd9dd72c5574ea2c4dab94aa9b0e45\n",
            "  Stored in directory: /root/.cache/pip/wheels/19/39/2f/2d3cadc408a8804103f1c34ddd4b9f6a93497b11fa96fe738e\n",
            "Successfully built fire\n",
            "Installing collected packages: fire, medmnist\n",
            "Successfully installed fire-0.7.0 medmnist-3.0.2\n",
            "Collecting segmentation-models-pytorch\n",
            "  Downloading segmentation_models_pytorch-0.3.4-py3-none-any.whl.metadata (30 kB)\n",
            "Collecting efficientnet-pytorch==0.7.1 (from segmentation-models-pytorch)\n",
            "  Downloading efficientnet_pytorch-0.7.1.tar.gz (21 kB)\n",
            "  Preparing metadata (setup.py) ... \u001b[?25l\u001b[?25hdone\n",
            "Requirement already satisfied: huggingface-hub>=0.24.6 in /usr/local/lib/python3.10/dist-packages (from segmentation-models-pytorch) (0.24.7)\n",
            "Requirement already satisfied: pillow in /usr/local/lib/python3.10/dist-packages (from segmentation-models-pytorch) (10.4.0)\n",
            "Collecting pretrainedmodels==0.7.4 (from segmentation-models-pytorch)\n",
            "  Downloading pretrainedmodels-0.7.4.tar.gz (58 kB)\n",
            "\u001b[2K     \u001b[90m━━━━━━━━━━━━━━━━━━━━━━━━━━━━━━━━━━━━━━━━\u001b[0m \u001b[32m58.8/58.8 kB\u001b[0m \u001b[31m4.3 MB/s\u001b[0m eta \u001b[36m0:00:00\u001b[0m\n",
            "\u001b[?25h  Preparing metadata (setup.py) ... \u001b[?25l\u001b[?25hdone\n",
            "Requirement already satisfied: six in /usr/local/lib/python3.10/dist-packages (from segmentation-models-pytorch) (1.16.0)\n",
            "Collecting timm==0.9.7 (from segmentation-models-pytorch)\n",
            "  Downloading timm-0.9.7-py3-none-any.whl.metadata (58 kB)\n",
            "\u001b[2K     \u001b[90m━━━━━━━━━━━━━━━━━━━━━━━━━━━━━━━━━━━━━━━━\u001b[0m \u001b[32m58.8/58.8 kB\u001b[0m \u001b[31m4.7 MB/s\u001b[0m eta \u001b[36m0:00:00\u001b[0m\n",
            "\u001b[?25hRequirement already satisfied: torchvision>=0.5.0 in /usr/local/lib/python3.10/dist-packages (from segmentation-models-pytorch) (0.20.0+cu121)\n",
            "Requirement already satisfied: tqdm in /usr/local/lib/python3.10/dist-packages (from segmentation-models-pytorch) (4.66.6)\n",
            "Requirement already satisfied: torch in /usr/local/lib/python3.10/dist-packages (from efficientnet-pytorch==0.7.1->segmentation-models-pytorch) (2.5.0+cu121)\n",
            "Collecting munch (from pretrainedmodels==0.7.4->segmentation-models-pytorch)\n",
            "  Downloading munch-4.0.0-py2.py3-none-any.whl.metadata (5.9 kB)\n",
            "Requirement already satisfied: pyyaml in /usr/local/lib/python3.10/dist-packages (from timm==0.9.7->segmentation-models-pytorch) (6.0.2)\n",
            "Requirement already satisfied: safetensors in /usr/local/lib/python3.10/dist-packages (from timm==0.9.7->segmentation-models-pytorch) (0.4.5)\n",
            "Requirement already satisfied: filelock in /usr/local/lib/python3.10/dist-packages (from huggingface-hub>=0.24.6->segmentation-models-pytorch) (3.16.1)\n",
            "Requirement already satisfied: fsspec>=2023.5.0 in /usr/local/lib/python3.10/dist-packages (from huggingface-hub>=0.24.6->segmentation-models-pytorch) (2024.10.0)\n",
            "Requirement already satisfied: packaging>=20.9 in /usr/local/lib/python3.10/dist-packages (from huggingface-hub>=0.24.6->segmentation-models-pytorch) (24.1)\n",
            "Requirement already satisfied: requests in /usr/local/lib/python3.10/dist-packages (from huggingface-hub>=0.24.6->segmentation-models-pytorch) (2.32.3)\n",
            "Requirement already satisfied: typing-extensions>=3.7.4.3 in /usr/local/lib/python3.10/dist-packages (from huggingface-hub>=0.24.6->segmentation-models-pytorch) (4.12.2)\n",
            "Requirement already satisfied: numpy in /usr/local/lib/python3.10/dist-packages (from torchvision>=0.5.0->segmentation-models-pytorch) (1.26.4)\n",
            "Requirement already satisfied: networkx in /usr/local/lib/python3.10/dist-packages (from torch->efficientnet-pytorch==0.7.1->segmentation-models-pytorch) (3.4.2)\n",
            "Requirement already satisfied: jinja2 in /usr/local/lib/python3.10/dist-packages (from torch->efficientnet-pytorch==0.7.1->segmentation-models-pytorch) (3.1.4)\n",
            "Requirement already satisfied: sympy==1.13.1 in /usr/local/lib/python3.10/dist-packages (from torch->efficientnet-pytorch==0.7.1->segmentation-models-pytorch) (1.13.1)\n",
            "Requirement already satisfied: mpmath<1.4,>=1.1.0 in /usr/local/lib/python3.10/dist-packages (from sympy==1.13.1->torch->efficientnet-pytorch==0.7.1->segmentation-models-pytorch) (1.3.0)\n",
            "Requirement already satisfied: charset-normalizer<4,>=2 in /usr/local/lib/python3.10/dist-packages (from requests->huggingface-hub>=0.24.6->segmentation-models-pytorch) (3.4.0)\n",
            "Requirement already satisfied: idna<4,>=2.5 in /usr/local/lib/python3.10/dist-packages (from requests->huggingface-hub>=0.24.6->segmentation-models-pytorch) (3.10)\n",
            "Requirement already satisfied: urllib3<3,>=1.21.1 in /usr/local/lib/python3.10/dist-packages (from requests->huggingface-hub>=0.24.6->segmentation-models-pytorch) (2.2.3)\n",
            "Requirement already satisfied: certifi>=2017.4.17 in /usr/local/lib/python3.10/dist-packages (from requests->huggingface-hub>=0.24.6->segmentation-models-pytorch) (2024.8.30)\n",
            "Requirement already satisfied: MarkupSafe>=2.0 in /usr/local/lib/python3.10/dist-packages (from jinja2->torch->efficientnet-pytorch==0.7.1->segmentation-models-pytorch) (3.0.2)\n",
            "Downloading segmentation_models_pytorch-0.3.4-py3-none-any.whl (109 kB)\n",
            "\u001b[2K   \u001b[90m━━━━━━━━━━━━━━━━━━━━━━━━━━━━━━━━━━━━━━━━\u001b[0m \u001b[32m109.5/109.5 kB\u001b[0m \u001b[31m10.9 MB/s\u001b[0m eta \u001b[36m0:00:00\u001b[0m\n",
            "\u001b[?25hDownloading timm-0.9.7-py3-none-any.whl (2.2 MB)\n",
            "\u001b[2K   \u001b[90m━━━━━━━━━━━━━━━━━━━━━━━━━━━━━━━━━━━━━━━━\u001b[0m \u001b[32m2.2/2.2 MB\u001b[0m \u001b[31m29.9 MB/s\u001b[0m eta \u001b[36m0:00:00\u001b[0m\n",
            "\u001b[?25hDownloading munch-4.0.0-py2.py3-none-any.whl (9.9 kB)\n",
            "Building wheels for collected packages: efficientnet-pytorch, pretrainedmodels\n",
            "  Building wheel for efficientnet-pytorch (setup.py) ... \u001b[?25l\u001b[?25hdone\n",
            "  Created wheel for efficientnet-pytorch: filename=efficientnet_pytorch-0.7.1-py3-none-any.whl size=16424 sha256=5dac90b6f4c72033df2934f8f2be0dbc0bed481132dd7334158c1939384c4b61\n",
            "  Stored in directory: /root/.cache/pip/wheels/03/3f/e9/911b1bc46869644912bda90a56bcf7b960f20b5187feea3baf\n",
            "  Building wheel for pretrainedmodels (setup.py) ... \u001b[?25l\u001b[?25hdone\n",
            "  Created wheel for pretrainedmodels: filename=pretrainedmodels-0.7.4-py3-none-any.whl size=60944 sha256=3854be54bd0fe163d7f67888a721b1fd6858bcd9c5f35973a5f2aac8bd272dfd\n",
            "  Stored in directory: /root/.cache/pip/wheels/35/cb/a5/8f534c60142835bfc889f9a482e4a67e0b817032d9c6883b64\n",
            "Successfully built efficientnet-pytorch pretrainedmodels\n",
            "Installing collected packages: munch, efficientnet-pytorch, timm, pretrainedmodels, segmentation-models-pytorch\n",
            "  Attempting uninstall: timm\n",
            "    Found existing installation: timm 1.0.11\n",
            "    Uninstalling timm-1.0.11:\n",
            "      Successfully uninstalled timm-1.0.11\n",
            "Successfully installed efficientnet-pytorch-0.7.1 munch-4.0.0 pretrainedmodels-0.7.4 segmentation-models-pytorch-0.3.4 timm-0.9.7\n"
          ]
        }
      ]
    },
    {
      "cell_type": "markdown",
      "source": [
        "Import Libraries"
      ],
      "metadata": {
        "id": "lVCGlG94t2H3"
      }
    },
    {
      "cell_type": "code",
      "source": [
        "import torch\n",
        "import torch.nn as nn\n",
        "import torch.nn.functional as F\n",
        "import torchvision.transforms as transforms\n",
        "from torch.utils.data import DataLoader\n",
        "from medmnist import BreastMNIST\n",
        "from sklearn.metrics import accuracy_score, f1_score, confusion_matrix, recall_score, precision_score, roc_curve, auc\n",
        "import matplotlib.pyplot as plt\n",
        "import seaborn as sns\n",
        "import numpy as np\n",
        "from collections import Counter\n",
        "from torchsummary import summary\n",
        "import pandas as pd\n",
        "import segmentation_models_pytorch as smp\n"
      ],
      "metadata": {
        "id": "-6IDRE9atoEj"
      },
      "execution_count": 3,
      "outputs": []
    },
    {
      "cell_type": "markdown",
      "source": [
        "Device Configuration"
      ],
      "metadata": {
        "id": "2KI-MZjnt7gD"
      }
    },
    {
      "cell_type": "code",
      "source": [
        "device = torch.device('cuda' if torch.cuda.is_available() else 'cpu')\n",
        "print(f'Using device: {device}')\n"
      ],
      "metadata": {
        "colab": {
          "base_uri": "https://localhost:8080/"
        },
        "id": "w4MlhDVytrNg",
        "outputId": "e8449d73-cb48-4f11-b4c1-53b00ba15ec9"
      },
      "execution_count": 4,
      "outputs": [
        {
          "output_type": "stream",
          "name": "stdout",
          "text": [
            "Using device: cpu\n"
          ]
        }
      ]
    },
    {
      "cell_type": "markdown",
      "source": [
        "Data Transformations"
      ],
      "metadata": {
        "id": "0AECyiVrul9G"
      }
    },
    {
      "cell_type": "code",
      "source": [
        "transform = transforms.Compose([\n",
        "    transforms.RandomHorizontalFlip(),\n",
        "    transforms.RandomRotation(10),\n",
        "    transforms.ToTensor(),\n",
        "    transforms.Normalize(mean=[0.5], std=[0.5])\n",
        "])\n"
      ],
      "metadata": {
        "id": "qej_yF6gtuVY"
      },
      "execution_count": 5,
      "outputs": []
    },
    {
      "cell_type": "markdown",
      "source": [
        "Load BreastMNIST Dataset"
      ],
      "metadata": {
        "id": "Ee6N-hbnurSv"
      }
    },
    {
      "cell_type": "code",
      "source": [
        "# Load BreastMNIST dataset\n",
        "train_data = BreastMNIST(split='train', transform=transform, target_transform=lambda x: int(x), download=True)\n",
        "val_data = BreastMNIST(split='val', transform=transform, target_transform=lambda x: int(x), download=True)\n",
        "test_data = BreastMNIST(split='test', transform=transform, target_transform=lambda x: int(x), download=True)\n"
      ],
      "metadata": {
        "colab": {
          "base_uri": "https://localhost:8080/"
        },
        "id": "CoWs4L_DuubW",
        "outputId": "cfe1a538-08fc-4162-94e4-fd8a0b875d44"
      },
      "execution_count": 6,
      "outputs": [
        {
          "output_type": "stream",
          "name": "stdout",
          "text": [
            "Downloading https://zenodo.org/records/10519652/files/breastmnist.npz?download=1 to /root/.medmnist/breastmnist.npz\n"
          ]
        },
        {
          "output_type": "stream",
          "name": "stderr",
          "text": [
            "100%|██████████| 560k/560k [00:00<00:00, 782kB/s] "
          ]
        },
        {
          "output_type": "stream",
          "name": "stdout",
          "text": [
            "Using downloaded and verified file: /root/.medmnist/breastmnist.npz\n",
            "Using downloaded and verified file: /root/.medmnist/breastmnist.npz\n"
          ]
        },
        {
          "output_type": "stream",
          "name": "stderr",
          "text": [
            "\n"
          ]
        }
      ]
    },
    {
      "cell_type": "markdown",
      "source": [
        "Handle Class Imbalance"
      ],
      "metadata": {
        "id": "DShDowZ-ux2K"
      }
    },
    {
      "cell_type": "code",
      "source": [
        "train_labels = [label for _, label in train_data]\n",
        "class_counts = Counter(train_labels)\n",
        "total_samples = sum(class_counts.values())\n",
        "class_weights = [total_samples / class_counts[i] for i in range(len(class_counts))]\n",
        "class_weights = torch.tensor(class_weights, dtype=torch.float).to(device)\n"
      ],
      "metadata": {
        "colab": {
          "base_uri": "https://localhost:8080/"
        },
        "id": "01UTh6h1u1KP",
        "outputId": "12e8b504-0a94-48a4-a864-48f9cea78319"
      },
      "execution_count": 7,
      "outputs": [
        {
          "output_type": "stream",
          "name": "stderr",
          "text": [
            "<ipython-input-6-b9f83b897533>:2: DeprecationWarning: Conversion of an array with ndim > 0 to a scalar is deprecated, and will error in future. Ensure you extract a single element from your array before performing this operation. (Deprecated NumPy 1.25.)\n",
            "  train_data = BreastMNIST(split='train', transform=transform, target_transform=lambda x: int(x), download=True)\n"
          ]
        }
      ]
    },
    {
      "cell_type": "markdown",
      "source": [
        "Data Loaders"
      ],
      "metadata": {
        "id": "Fy3ZwM5Gu9FC"
      }
    },
    {
      "cell_type": "code",
      "source": [
        "batch_size = 32\n",
        "train_loader = DataLoader(dataset=train_data, batch_size=batch_size, shuffle=True)\n",
        "val_loader = DataLoader(dataset=val_data, batch_size=batch_size, shuffle=False)\n",
        "test_loader = DataLoader(dataset=test_data, batch_size=batch_size, shuffle=False)\n"
      ],
      "metadata": {
        "id": "IRDNBR8vvBEH"
      },
      "execution_count": 8,
      "outputs": []
    },
    {
      "cell_type": "markdown",
      "source": [
        "Define CNN-RNN Hybrid Model"
      ],
      "metadata": {
        "id": "_jc_-hvMvFnE"
      }
    },
    {
      "cell_type": "code",
      "source": [
        "class CNNRNN(nn.Module):\n",
        "    def __init__(self):\n",
        "        super(CNNRNN, self).__init__()\n",
        "        self.cnn = nn.Sequential(\n",
        "            nn.Conv2d(1, 16, kernel_size=3, stride=1, padding=1),\n",
        "            nn.ReLU(),\n",
        "            nn.MaxPool2d(2, 2),  # Output: (16, 14, 14)\n",
        "            nn.Conv2d(16, 32, kernel_size=3, stride=1, padding=1),\n",
        "            nn.ReLU(),\n",
        "            nn.MaxPool2d(2, 2)   # Output: (32, 7, 7)\n",
        "        )\n",
        "        self.lstm = nn.LSTM(32, 128, batch_first=True)\n",
        "        self.fc = nn.Linear(128, 2)\n",
        "\n",
        "    def forward(self, x):\n",
        "        batch_size = x.size(0)\n",
        "        x = self.cnn(x)  # Shape: (batch_size, 32, 7, 7)\n",
        "        x = x.permute(0, 2, 3, 1)  # Shape: (batch_size, 7, 7, 32)\n",
        "        x = x.view(batch_size, -1, 32)  # Shape: (batch_size, 49, 32)\n",
        "        x, _ = self.lstm(x)  # LSTM output: (batch_size, 49, 128)\n",
        "        x = x[:, -1, :]  # Take the output of the last time step\n",
        "        x = self.fc(x)  # Output: (batch_size, 2)\n",
        "        return x\n"
      ],
      "metadata": {
        "id": "4M6rLlaqvHGO"
      },
      "execution_count": 9,
      "outputs": []
    },
    {
      "cell_type": "markdown",
      "source": [
        "Instantiate Model"
      ],
      "metadata": {
        "id": "-c3yyCLDvNef"
      }
    },
    {
      "cell_type": "code",
      "source": [
        "cnn_rnn_model = CNNRNN().to(device)\n"
      ],
      "metadata": {
        "id": "7hemRbFDvMSA"
      },
      "execution_count": 10,
      "outputs": []
    },
    {
      "cell_type": "markdown",
      "source": [
        "Define Loss Function and Optimizer"
      ],
      "metadata": {
        "id": "bpIg9bVFvTTU"
      }
    },
    {
      "cell_type": "code",
      "source": [
        "criterion = nn.CrossEntropyLoss(weight=class_weights)\n",
        "optimizer = torch.optim.Adam(cnn_rnn_model.parameters(), lr=0.001)\n"
      ],
      "metadata": {
        "id": "vQ8-KVu2vWc1"
      },
      "execution_count": 11,
      "outputs": []
    },
    {
      "cell_type": "markdown",
      "source": [
        "Training Function"
      ],
      "metadata": {
        "id": "5JVSud59vbBr"
      }
    },
    {
      "cell_type": "code",
      "source": [
        "def train_model(model, train_loader, val_loader, criterion, optimizer, num_epochs=10):\n",
        "    for epoch in range(num_epochs):\n",
        "        model.train()\n",
        "        running_loss = 0.0\n",
        "        correct = 0\n",
        "        total = 0\n",
        "\n",
        "        # Training loop\n",
        "        for images, labels in train_loader:\n",
        "            images, labels = images.to(device), labels.to(device).view(-1)\n",
        "            optimizer.zero_grad()\n",
        "            outputs = model(images)\n",
        "            loss = criterion(outputs, labels)\n",
        "            loss.backward()\n",
        "            optimizer.step()\n",
        "\n",
        "            running_loss += loss.item()\n",
        "            _, predicted = torch.max(outputs.data, 1)\n",
        "            total += labels.size(0)\n",
        "            correct += (predicted == labels).sum().item()\n",
        "\n",
        "        train_accuracy = 100 * correct / total\n",
        "        train_loss = running_loss / len(train_loader)\n",
        "\n",
        "        # Validation loop\n",
        "        model.eval()\n",
        "        val_loss = 0.0\n",
        "        val_correct = 0\n",
        "        val_total = 0\n",
        "        with torch.no_grad():\n",
        "            for images, labels in val_loader:\n",
        "                images, labels = images.to(device), labels.to(device).view(-1)\n",
        "                outputs = model(images)\n",
        "                loss = criterion(outputs, labels)\n",
        "                val_loss += loss.item()\n",
        "                _, predicted = torch.max(outputs.data, 1)\n",
        "                val_total += labels.size(0)\n",
        "                val_correct += (predicted == labels).sum().item()\n",
        "        val_accuracy = 100 * val_correct / val_total\n",
        "        val_loss = val_loss / len(val_loader)\n",
        "        print(f\"Epoch {epoch+1}/{num_epochs}, \"\n",
        "              f\"Train Loss: {train_loss:.4f}, Train Accuracy: {train_accuracy:.2f}%, \"\n",
        "              f\"Val Loss: {val_loss:.4f}, Val Accuracy: {val_accuracy:.2f}%\")\n",
        "        model.train()\n"
      ],
      "metadata": {
        "id": "LPMLYr7Lvai-"
      },
      "execution_count": 13,
      "outputs": []
    },
    {
      "cell_type": "markdown",
      "source": [
        "Train the CNN-RNN Model"
      ],
      "metadata": {
        "id": "v3bvXwrSvgk1"
      }
    },
    {
      "cell_type": "code",
      "source": [
        "num_epochs = 10\n",
        "train_model(cnn_rnn_model, train_loader, val_loader, criterion, optimizer, num_epochs=num_epochs)\n"
      ],
      "metadata": {
        "colab": {
          "base_uri": "https://localhost:8080/"
        },
        "id": "0P4Ovbkdvjzv",
        "outputId": "01bb3c71-53c7-4d9e-9233-8efaca030911"
      },
      "execution_count": 15,
      "outputs": [
        {
          "output_type": "stream",
          "name": "stderr",
          "text": [
            "<ipython-input-6-b9f83b897533>:2: DeprecationWarning: Conversion of an array with ndim > 0 to a scalar is deprecated, and will error in future. Ensure you extract a single element from your array before performing this operation. (Deprecated NumPy 1.25.)\n",
            "  train_data = BreastMNIST(split='train', transform=transform, target_transform=lambda x: int(x), download=True)\n",
            "<ipython-input-6-b9f83b897533>:3: DeprecationWarning: Conversion of an array with ndim > 0 to a scalar is deprecated, and will error in future. Ensure you extract a single element from your array before performing this operation. (Deprecated NumPy 1.25.)\n",
            "  val_data = BreastMNIST(split='val', transform=transform, target_transform=lambda x: int(x), download=True)\n"
          ]
        },
        {
          "output_type": "stream",
          "name": "stdout",
          "text": [
            "Epoch 1/10, Train Loss: 0.6687, Train Accuracy: 52.75%, Val Loss: 0.6864, Val Accuracy: 42.31%\n",
            "Epoch 2/10, Train Loss: 0.6724, Train Accuracy: 37.91%, Val Loss: 0.6849, Val Accuracy: 34.62%\n",
            "Epoch 3/10, Train Loss: 0.6627, Train Accuracy: 51.83%, Val Loss: 0.7481, Val Accuracy: 73.08%\n",
            "Epoch 4/10, Train Loss: 0.6608, Train Accuracy: 65.75%, Val Loss: 0.6869, Val Accuracy: 41.03%\n",
            "Epoch 5/10, Train Loss: 0.6728, Train Accuracy: 40.48%, Val Loss: 0.6882, Val Accuracy: 42.31%\n",
            "Epoch 6/10, Train Loss: 0.6605, Train Accuracy: 55.31%, Val Loss: 0.6914, Val Accuracy: 53.85%\n",
            "Epoch 7/10, Train Loss: 0.6728, Train Accuracy: 42.12%, Val Loss: 0.6922, Val Accuracy: 39.74%\n",
            "Epoch 8/10, Train Loss: 0.6599, Train Accuracy: 49.45%, Val Loss: 0.6918, Val Accuracy: 62.82%\n",
            "Epoch 9/10, Train Loss: 0.6488, Train Accuracy: 62.82%, Val Loss: 0.6869, Val Accuracy: 46.15%\n",
            "Epoch 10/10, Train Loss: 0.6488, Train Accuracy: 55.13%, Val Loss: 0.6876, Val Accuracy: 61.54%\n"
          ]
        }
      ]
    },
    {
      "cell_type": "markdown",
      "source": [
        "Evaluation Function"
      ],
      "metadata": {
        "id": "LLrHmtQ8v4Xw"
      }
    },
    {
      "cell_type": "code",
      "source": [
        "def evaluate_model(model, test_loader):\n",
        "    model.eval()\n",
        "    all_preds = []\n",
        "    all_labels = []\n",
        "    all_preds_prob = []\n",
        "\n",
        "    with torch.no_grad():\n",
        "        for images, labels in test_loader:\n",
        "            images, labels = images.to(device), labels.to(device).view(-1)\n",
        "            outputs = model(images)\n",
        "            _, predicted = torch.max(outputs.data, 1)\n",
        "            all_preds_prob.extend(torch.softmax(outputs, dim=1).cpu().numpy())\n",
        "            all_preds.extend(predicted.cpu().numpy())\n",
        "            all_labels.extend(labels.cpu().numpy())\n",
        "\n",
        "    # Compute metrics\n",
        "    accuracy = accuracy_score(all_labels, all_preds)\n",
        "    f1 = f1_score(all_labels, all_preds, average='weighted')\n",
        "    recall = recall_score(all_labels, all_preds, average='weighted')\n",
        "    precision = precision_score(all_labels, all_preds, average='weighted')\n",
        "    conf_matrix = confusion_matrix(all_labels, all_preds)\n",
        "\n",
        "    print(f\"Accuracy: {accuracy:.4f}\")\n",
        "    print(f\"F1 Score: {f1:.4f}\")\n",
        "    print(f\"Recall: {recall:.4f}\")\n",
        "    print(f\"Precision: {precision:.4f}\")\n",
        "    print(f\"Confusion Matrix:\\n{conf_matrix}\")\n",
        "\n",
        "    # Plot confusion matrix\n",
        "    plt.figure(figsize=(6, 5))\n",
        "    sns.heatmap(conf_matrix, annot=True, fmt='d', cmap='Oranges')\n",
        "    plt.xlabel('Predicted Labels')\n",
        "    plt.ylabel('True Labels')\n",
        "    plt.show()\n",
        "\n",
        "    # ROC Curve\n",
        "    fpr, tpr, _ = roc_curve(all_labels, np.array(all_preds_prob)[:, 1])\n",
        "    roc_auc = auc(fpr, tpr)\n",
        "    plt.figure()\n",
        "    plt.plot(fpr, tpr, color='yellow', lw=2, label=f'ROC curve (area = {roc_auc:.2f})')\n",
        "    plt.plot([0, 1], [0, 1], color='gray', linestyle='--')\n",
        "    plt.xlabel('False Positive Rate')\n",
        "    plt.ylabel('True Positive Rate')\n",
        "    plt.title('Receiver Operating Characteristic (ROC) Curve')\n",
        "    plt.legend(loc='lower right')\n",
        "    plt.show()\n"
      ],
      "metadata": {
        "id": "RuFNpOeKvpyY"
      },
      "execution_count": 21,
      "outputs": []
    },
    {
      "cell_type": "markdown",
      "source": [
        "Evaluate the CNN-RNN Model"
      ],
      "metadata": {
        "id": "kgISTCHuwTTe"
      }
    },
    {
      "cell_type": "code",
      "source": [
        "evaluate_model(cnn_rnn_model, test_loader)\n"
      ],
      "metadata": {
        "colab": {
          "base_uri": "https://localhost:8080/",
          "height": 1000
        },
        "id": "PDABTwyKwT93",
        "outputId": "a571c8e5-46b9-44ff-fc1c-4c9b8d165abb"
      },
      "execution_count": 22,
      "outputs": [
        {
          "output_type": "stream",
          "name": "stderr",
          "text": [
            "<ipython-input-6-b9f83b897533>:4: DeprecationWarning: Conversion of an array with ndim > 0 to a scalar is deprecated, and will error in future. Ensure you extract a single element from your array before performing this operation. (Deprecated NumPy 1.25.)\n",
            "  test_data = BreastMNIST(split='test', transform=transform, target_transform=lambda x: int(x), download=True)\n"
          ]
        },
        {
          "output_type": "stream",
          "name": "stdout",
          "text": [
            "Accuracy: 0.6154\n",
            "F1 Score: 0.6328\n",
            "Recall: 0.6154\n",
            "Precision: 0.6651\n",
            "Confusion Matrix:\n",
            "[[21 21]\n",
            " [39 75]]\n"
          ]
        },
        {
          "output_type": "display_data",
          "data": {
            "text/plain": [
              "<Figure size 600x500 with 2 Axes>"
            ],
            "image/png": "[encoded data removed]"
          },
          "metadata": {}
        },
        {
          "output_type": "display_data",
          "data": {
            "text/plain": [
              "<Figure size 640x480 with 1 Axes>"
            ],
            "image/png": "[encoded data removed]"
          },
          "metadata": {}
        }
      ]
    },
    {
      "cell_type": "markdown",
      "source": [
        "Class Distribution Visualization"
      ],
      "metadata": {
        "id": "lydWo8bPwtJ0"
      }
    },
    {
      "cell_type": "code",
      "source": [
        "labels = [label for _, label in train_data]\n",
        "labels_df = pd.DataFrame(labels, columns=['Class'])\n",
        "sns.countplot(x='Class', data=labels_df)\n",
        "plt.xlabel('Class Labels')\n",
        "plt.ylabel('Frequency')\n",
        "plt.title('Class Distribution in Training Data')\n",
        "plt.show()\n"
      ],
      "metadata": {
        "colab": {
          "base_uri": "https://localhost:8080/",
          "height": 527
        },
        "id": "bFN44I9BwuC7",
        "outputId": "7c932caf-ae8f-4c90-f52e-47f9d1e944d4"
      },
      "execution_count": 25,
      "outputs": [
        {
          "output_type": "stream",
          "name": "stderr",
          "text": [
            "<ipython-input-6-b9f83b897533>:2: DeprecationWarning: Conversion of an array with ndim > 0 to a scalar is deprecated, and will error in future. Ensure you extract a single element from your array before performing this operation. (Deprecated NumPy 1.25.)\n",
            "  train_data = BreastMNIST(split='train', transform=transform, target_transform=lambda x: int(x), download=True)\n"
          ]
        },
        {
          "output_type": "display_data",
          "data": {
            "text/plain": [
              "<Figure size 640x480 with 1 Axes>"
            ],
            "image/png": "[encoded data removed]"
          },
          "metadata": {}
        }
      ]
    },
    {
      "cell_type": "markdown",
      "source": [
        "Define DeepLabV3 Model"
      ],
      "metadata": {
        "id": "Cz-vWU1ixYNZ"
      }
    },
    {
      "cell_type": "code",
      "source": [
        "class DeepLabv3ClassificationModel(nn.Module):\n",
        "    def __init__(self):\n",
        "        super(DeepLabv3ClassificationModel, self).__init__()\n",
        "        # Use the DeepLabV3 with ResNet50 backbone\n",
        "        self.deeplab = smp.DeepLabV3(\n",
        "            encoder_name='resnet50',        # Use ResNet-50 as the encoder\n",
        "            encoder_weights='imagenet',     # Pre-trained on ImageNet\n",
        "            in_channels=1,                  # Single-channel input (grayscale)\n",
        "            classes=2                       # Binary classification (not used directly)\n",
        "        )\n",
        "\n",
        "        # Global Average Pooling Layer\n",
        "        self.global_avg_pool = nn.AdaptiveAvgPool2d((1, 1))\n",
        "\n",
        "        # Fully Connected Layer for Classification\n",
        "        self.fc = nn.Linear(2048, 2)  # Assuming ResNet-50 output feature map has 2048 channels\n",
        "\n",
        "    def forward(self, x):\n",
        "        # Forward pass through the encoder of DeepLabV3\n",
        "        encoder_output = self.deeplab.encoder(x)\n",
        "\n",
        "        # Ensure the encoder output is correctly extracted\n",
        "        if isinstance(encoder_output, (tuple, list)):\n",
        "            x = encoder_output[-1]  # Use the deepest feature map for classification\n",
        "        else:\n",
        "            x = encoder_output\n",
        "\n",
        "        # Now x should be a tensor, suitable for the next layers\n",
        "        x = self.global_avg_pool(x)  # Apply global average pooling\n",
        "        x = torch.flatten(x, 1)      # Flatten the feature map to vector\n",
        "        x = self.fc(x)               # Fully connected layer for classification\n",
        "        return x\n"
      ],
      "metadata": {
        "id": "eocqJlmXxZFH"
      },
      "execution_count": 26,
      "outputs": []
    },
    {
      "cell_type": "markdown",
      "source": [
        "Data Transformations for DeepLabV3"
      ],
      "metadata": {
        "id": "dY5jutxWxbFW"
      }
    },
    {
      "cell_type": "code",
      "source": [
        "from torchvision.transforms import Resize\n",
        "\n",
        "# Update Data Transformations to Resize Images to (32, 32)\n",
        "transform_dl = transforms.Compose([\n",
        "    Resize((32, 32)),\n",
        "    transforms.RandomHorizontalFlip(),\n",
        "    transforms.RandomRotation(10),\n",
        "    transforms.ToTensor(),\n",
        "    transforms.Normalize(mean=[0.5], std=[0.5])\n",
        "])\n",
        "\n",
        "# Load BreastMNIST dataset with updated transforms\n",
        "train_data_dl = BreastMNIST(split='train', transform=transform_dl, target_transform=lambda x: int(x), download=True)\n",
        "val_data_dl = BreastMNIST(split='val', transform=transform_dl, target_transform=lambda x: int(x), download=True)\n",
        "test_data_dl = BreastMNIST(split='test', transform=transform_dl, target_transform=lambda x: int(x), download=True)\n",
        "\n",
        "# Data Loaders\n",
        "batch_size = 32\n",
        "train_loader_dl = DataLoader(dataset=train_data_dl, batch_size=batch_size, shuffle=True)\n",
        "val_loader_dl = DataLoader(dataset=val_data_dl, batch_size=batch_size, shuffle=False)\n",
        "test_loader_dl = DataLoader(dataset=test_data_dl, batch_size=batch_size, shuffle=False)\n"
      ],
      "metadata": {
        "colab": {
          "base_uri": "https://localhost:8080/"
        },
        "id": "b9zz3BDJxeSV",
        "outputId": "c0521904-14aa-4c83-9a6d-a89d371d0139"
      },
      "execution_count": 27,
      "outputs": [
        {
          "output_type": "stream",
          "name": "stdout",
          "text": [
            "Using downloaded and verified file: /root/.medmnist/breastmnist.npz\n",
            "Using downloaded and verified file: /root/.medmnist/breastmnist.npz\n",
            "Using downloaded and verified file: /root/.medmnist/breastmnist.npz\n"
          ]
        }
      ]
    },
    {
      "cell_type": "markdown",
      "source": [
        "Handle Class Imbalance for DeepLabV3"
      ],
      "metadata": {
        "id": "yqQxwTVdxgfQ"
      }
    },
    {
      "cell_type": "code",
      "source": [
        "train_labels_dl = [label for _, label in train_data_dl]\n",
        "class_counts_dl = Counter(train_labels_dl)\n",
        "total_samples_dl = sum(class_counts_dl.values())\n",
        "class_weights_dl = [total_samples_dl / class_counts_dl[i] for i in range(len(class_counts_dl))]\n",
        "class_weights_dl = torch.tensor(class_weights_dl, dtype=torch.float).to(device)\n"
      ],
      "metadata": {
        "colab": {
          "base_uri": "https://localhost:8080/"
        },
        "id": "52pSoVA4xjum",
        "outputId": "2ce642e1-267c-47aa-af76-6737f2935f5c"
      },
      "execution_count": 28,
      "outputs": [
        {
          "output_type": "stream",
          "name": "stderr",
          "text": [
            "<ipython-input-27-35f9cbb28eb7>:13: DeprecationWarning: Conversion of an array with ndim > 0 to a scalar is deprecated, and will error in future. Ensure you extract a single element from your array before performing this operation. (Deprecated NumPy 1.25.)\n",
            "  train_data_dl = BreastMNIST(split='train', transform=transform_dl, target_transform=lambda x: int(x), download=True)\n"
          ]
        }
      ]
    },
    {
      "cell_type": "markdown",
      "source": [
        "Instantiate DeepLabV3 Model"
      ],
      "metadata": {
        "id": "IOSyAVPmxl65"
      }
    },
    {
      "cell_type": "code",
      "source": [
        "deeplab_classification_model = DeepLabv3ClassificationModel().to(device)\n"
      ],
      "metadata": {
        "colab": {
          "base_uri": "https://localhost:8080/"
        },
        "id": "QFngtUbjxpR8",
        "outputId": "21cfd4be-15f1-4575-e546-1cace56dbc85"
      },
      "execution_count": 29,
      "outputs": [
        {
          "output_type": "stream",
          "name": "stderr",
          "text": [
            "Downloading: \"https://download.pytorch.org/models/resnet50-19c8e357.pth\" to /root/.cache/torch/hub/checkpoints/resnet50-19c8e357.pth\n",
            "100%|██████████| 97.8M/97.8M [00:00<00:00, 142MB/s]\n"
          ]
        }
      ]
    },
    {
      "cell_type": "markdown",
      "source": [
        "Define Loss Function and Optimizer"
      ],
      "metadata": {
        "id": "wenhaeofxtlF"
      }
    },
    {
      "cell_type": "code",
      "source": [
        "criterion_dl = nn.CrossEntropyLoss(weight=class_weights_dl)\n",
        "optimizer_dl = torch.optim.Adam(deeplab_classification_model.parameters(), lr=0.001)\n"
      ],
      "metadata": {
        "id": "swAfFbtZxwA-"
      },
      "execution_count": 30,
      "outputs": []
    },
    {
      "cell_type": "markdown",
      "source": [
        "Train the DeepLabV3 Model"
      ],
      "metadata": {
        "id": "OYu9Y1FtxyM_"
      }
    },
    {
      "cell_type": "code",
      "source": [
        "train_model(deeplab_classification_model, train_loader_dl, val_loader_dl, criterion_dl, optimizer_dl, num_epochs=10)\n"
      ],
      "metadata": {
        "colab": {
          "base_uri": "https://localhost:8080/"
        },
        "id": "tFcLbZEvx1C5",
        "outputId": "fefd4da6-bbc9-4794-da74-98db20a5990e"
      },
      "execution_count": 31,
      "outputs": [
        {
          "output_type": "stream",
          "name": "stderr",
          "text": [
            "<ipython-input-27-35f9cbb28eb7>:13: DeprecationWarning: Conversion of an array with ndim > 0 to a scalar is deprecated, and will error in future. Ensure you extract a single element from your array before performing this operation. (Deprecated NumPy 1.25.)\n",
            "  train_data_dl = BreastMNIST(split='train', transform=transform_dl, target_transform=lambda x: int(x), download=True)\n",
            "<ipython-input-27-35f9cbb28eb7>:14: DeprecationWarning: Conversion of an array with ndim > 0 to a scalar is deprecated, and will error in future. Ensure you extract a single element from your array before performing this operation. (Deprecated NumPy 1.25.)\n",
            "  val_data_dl = BreastMNIST(split='val', transform=transform_dl, target_transform=lambda x: int(x), download=True)\n"
          ]
        },
        {
          "output_type": "stream",
          "name": "stdout",
          "text": [
            "Epoch 1/10, Train Loss: 0.7528, Train Accuracy: 60.62%, Val Loss: 4.6671, Val Accuracy: 26.92%\n",
            "Epoch 2/10, Train Loss: 0.5527, Train Accuracy: 68.86%, Val Loss: 0.3887, Val Accuracy: 91.03%\n",
            "Epoch 3/10, Train Loss: 0.4683, Train Accuracy: 78.39%, Val Loss: 0.4767, Val Accuracy: 85.90%\n",
            "Epoch 4/10, Train Loss: 0.4008, Train Accuracy: 85.35%, Val Loss: 0.6857, Val Accuracy: 78.21%\n",
            "Epoch 5/10, Train Loss: 0.5020, Train Accuracy: 81.14%, Val Loss: 0.5180, Val Accuracy: 84.62%\n",
            "Epoch 6/10, Train Loss: 0.4533, Train Accuracy: 82.05%, Val Loss: 0.3613, Val Accuracy: 88.46%\n",
            "Epoch 7/10, Train Loss: 0.3851, Train Accuracy: 85.53%, Val Loss: 0.4404, Val Accuracy: 87.18%\n",
            "Epoch 8/10, Train Loss: 0.4027, Train Accuracy: 87.36%, Val Loss: 0.4829, Val Accuracy: 75.64%\n",
            "Epoch 9/10, Train Loss: 0.3002, Train Accuracy: 88.46%, Val Loss: 0.3983, Val Accuracy: 80.77%\n",
            "Epoch 10/10, Train Loss: 0.3353, Train Accuracy: 86.63%, Val Loss: 0.5689, Val Accuracy: 87.18%\n"
          ]
        }
      ]
    },
    {
      "cell_type": "markdown",
      "source": [
        "Evaluate the DeepLabV3 Model"
      ],
      "metadata": {
        "id": "R-gVTvdyx4Az"
      }
    },
    {
      "cell_type": "code",
      "source": [
        "evaluate_model(deeplab_classification_model, test_loader_dl)\n"
      ],
      "metadata": {
        "colab": {
          "base_uri": "https://localhost:8080/",
          "height": 1000
        },
        "id": "Ul45rDRyx6bH",
        "outputId": "1223023f-d836-41fb-ac95-188fa1811368"
      },
      "execution_count": 32,
      "outputs": [
        {
          "output_type": "stream",
          "name": "stderr",
          "text": [
            "<ipython-input-27-35f9cbb28eb7>:15: DeprecationWarning: Conversion of an array with ndim > 0 to a scalar is deprecated, and will error in future. Ensure you extract a single element from your array before performing this operation. (Deprecated NumPy 1.25.)\n",
            "  test_data_dl = BreastMNIST(split='test', transform=transform_dl, target_transform=lambda x: int(x), download=True)\n"
          ]
        },
        {
          "output_type": "stream",
          "name": "stdout",
          "text": [
            "Accuracy: 0.8077\n",
            "F1 Score: 0.8091\n",
            "Recall: 0.8077\n",
            "Precision: 0.8108\n",
            "Confusion Matrix:\n",
            "[[28 14]\n",
            " [16 98]]\n"
          ]
        },
        {
          "output_type": "display_data",
          "data": {
            "text/plain": [
              "<Figure size 600x500 with 2 Axes>"
            ],
            "image/png": "[encoded data removed]"
          },
          "metadata": {}
        },
        {
          "output_type": "display_data",
          "data": {
            "text/plain": [
              "<Figure size 640x480 with 1 Axes>"
            ],
            "image/png": "[encoded data removed]"
          },
          "metadata": {}
        }
      ]
    },
    {
      "cell_type": "markdown",
      "source": [
        "Class Distribution Visualization"
      ],
      "metadata": {
        "id": "61Wt0Skgx9Dz"
      }
    },
    {
      "cell_type": "code",
      "source": [
        "labels_dl = [label for _, label in train_data_dl]\n",
        "labels_df_dl = pd.DataFrame(labels_dl, columns=['Class'])\n",
        "sns.countplot(x='Class', data=labels_df_dl)\n",
        "plt.xlabel('Class Labels')\n",
        "plt.ylabel('Frequency')\n",
        "plt.title('Class Distribution in Training Data')\n",
        "plt.show()\n"
      ],
      "metadata": {
        "colab": {
          "base_uri": "https://localhost:8080/",
          "height": 527
        },
        "id": "1V8DBi6px_1U",
        "outputId": "dcf67117-01e7-4cd0-b16c-239e9153b137"
      },
      "execution_count": 33,
      "outputs": [
        {
          "output_type": "stream",
          "name": "stderr",
          "text": [
            "<ipython-input-27-35f9cbb28eb7>:13: DeprecationWarning: Conversion of an array with ndim > 0 to a scalar is deprecated, and will error in future. Ensure you extract a single element from your array before performing this operation. (Deprecated NumPy 1.25.)\n",
            "  train_data_dl = BreastMNIST(split='train', transform=transform_dl, target_transform=lambda x: int(x), download=True)\n"
          ]
        },
        {
          "output_type": "display_data",
          "data": {
            "text/plain": [
              "<Figure size 640x480 with 1 Axes>"
            ],
            "image/png": "[encoded data removed]"
          },
          "metadata": {}
        }
      ]
    },
    {
      "cell_type": "markdown",
      "source": [
        "Save Models"
      ],
      "metadata": {
        "id": "q9X-7TMFyCJh"
      }
    },
    {
      "cell_type": "code",
      "source": [
        "# Save the CNN-RNN model\n",
        "torch.save(cnn_rnn_model.state_dict(), '/content/drive/My Drive/cnn_rnn_breastmnist.pth')\n",
        "\n",
        "# Save the DeepLabV3 model\n",
        "torch.save(deeplab_classification_model.state_dict(), '/content/drive/My Drive/deeplab_breastmnist.pth')\n"
      ],
      "metadata": {
        "id": "DFY5FVSWyFGK"
      },
      "execution_count": 34,
      "outputs": []
    },
    {
      "cell_type": "markdown",
      "source": [
        "Load Models"
      ],
      "metadata": {
        "id": "Hp4wWzJRyOwz"
      }
    },
    {
      "cell_type": "code",
      "source": [
        "# Load the CNN-RNN model\n",
        "cnn_rnn_model.load_state_dict(torch.load('/content/drive/My Drive/cnn_rnn_breastmnist.pth'))\n",
        "\n",
        "# Load the DeepLabV3 model\n",
        "deeplab_classification_model.load_state_dict(torch.load('/content/drive/My Drive/deeplab_breastmnist.pth'))\n"
      ],
      "metadata": {
        "id": "t2ik3WzSySCg"
      },
      "execution_count": null,
      "outputs": []
    }
  ]
}